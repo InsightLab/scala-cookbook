{
 "cells": [
  {
   "cell_type": "markdown",
   "metadata": {},
   "source": [
    "# Aula 3\n",
    "Nessa aula trabalharemos um pouco mais em cima de Herança, trazendo os seguintes conceitos:\n",
    "\n",
    "* Classes Abstratas\n",
    "* *Traits* (traços)\n",
    "* Polimorfismo"
   ]
  },
  {
   "cell_type": "markdown",
   "metadata": {},
   "source": [
    "## Classes Abstratas"
   ]
  },
  {
   "cell_type": "markdown",
   "metadata": {},
   "source": [
    "Classes abstratas são classes que possuem campos (métodos ou atributos) não definidos, pois os mesmos dependem de algum contexto. Quando criamos uma classe abstrata, esperamos que sejam criadas subclasses que herdem dela a fim de completá-la.\n",
    "\n",
    "Vamos utilizar o seguinte exemplo: **figuras**. Modelaremos a classe Figura seguindo os critérios:\n",
    "* toda figura tem um centro (utilizaremos uma classe Ponto para representá-lo)\n",
    "* podemos calcular a área de uma figura\n",
    "* podemos calcular o perímetro de uma figura"
   ]
  },
  {
   "cell_type": "code",
   "execution_count": 1,
   "metadata": {},
   "outputs": [
    {
     "data": {
      "text/plain": [
       "defined \u001b[32mclass\u001b[39m \u001b[36mPonto\u001b[39m\n",
       "defined \u001b[32mclass\u001b[39m \u001b[36mFigura\u001b[39m"
      ]
     },
     "execution_count": 1,
     "metadata": {},
     "output_type": "execute_result"
    }
   ],
   "source": [
    "class Ponto(x: Int,y: Int){\n",
    "    def X = x\n",
    "    def Y = y\n",
    "}\n",
    "\n",
    "abstract class Figura(c: Ponto) {\n",
    "    def centro = c //método implementado\n",
    "    \n",
    "    def calcularArea: Double //método sem implementação\n",
    "    def calcularPerimetro: Int //método sem implementação\n",
    "    def desenhar: Unit //método sem implementação\n",
    "}"
   ]
  },
  {
   "cell_type": "markdown",
   "metadata": {},
   "source": [
    "A partir da classe abstrata Figura, podemos implementar 2 outras classes: Quadrado e Retângulo:"
   ]
  },
  {
   "cell_type": "code",
   "execution_count": 2,
   "metadata": {},
   "outputs": [
    {
     "data": {
      "text/plain": [
       "defined \u001b[32mclass\u001b[39m \u001b[36mQuadrado\u001b[39m\n",
       "defined \u001b[32mclass\u001b[39m \u001b[36mRetangulo\u001b[39m"
      ]
     },
     "execution_count": 2,
     "metadata": {},
     "output_type": "execute_result"
    }
   ],
   "source": [
    "class Quadrado(l: Int, c: Ponto) extends Figura(c){\n",
    "    \n",
    "    def lado = l\n",
    "    \n",
    "    //métodos da classe Figura\n",
    "    def calcularArea: Double = l*l\n",
    "    def calcularPerimetro: Int = 4*l\n",
    "    def desenhar: Unit = println(\"Um quadrado de lado \"+ l)\n",
    "}\n",
    "\n",
    "class Retangulo(b: Int, h: Int, c: Ponto) extends Figura(c){\n",
    "    \n",
    "    def base = b\n",
    "    def altura = h\n",
    "    \n",
    "    //métodos da classe Figura\n",
    "    def calcularArea: Double = b*h\n",
    "    def calcularPerimetro: Int = b*2 + h*2\n",
    "    def desenhar: Unit = println(\"Um retângulo de base \"+ b + \" e altura \"+h)\n",
    "}"
   ]
  },
  {
   "cell_type": "markdown",
   "metadata": {},
   "source": [
    "Agora podemos criar objetos das classes Quadrado e Retângulo"
   ]
  },
  {
   "cell_type": "code",
   "execution_count": 4,
   "metadata": {},
   "outputs": [
    {
     "name": "stdout",
     "output_type": "stream",
     "text": [
      "Um quadrado de lado 2\n",
      "Perímetro: 8\n",
      "Área: 4.0\n",
      "-----------------------------\n",
      "Um retângulo de base 1 e altura 2\n",
      "Perímetro: 6\n",
      "Área: 2.0\n"
     ]
    },
    {
     "data": {
      "text/plain": [
       "\u001b[36mq\u001b[39m: \u001b[32mQuadrado\u001b[39m = $sess.cmd1Wrapper$Helper$Quadrado@1551e0ec\n",
       "\u001b[36mr\u001b[39m: \u001b[32mRetangulo\u001b[39m = $sess.cmd1Wrapper$Helper$Retangulo@561a1212"
      ]
     },
     "execution_count": 4,
     "metadata": {},
     "output_type": "execute_result"
    }
   ],
   "source": [
    "val q = new Quadrado(2, new Ponto(0,0))\n",
    "q.desenhar\n",
    "println(\"Perímetro: \"+q.calcularPerimetro)\n",
    "println(\"Área: \"+q.calcularArea)\n",
    "\n",
    "println(\"-----------------------------\")\n",
    "\n",
    "val r = new Retangulo(1,2,new Ponto(1,1))\n",
    "r.desenhar\n",
    "println(\"Perímetro: \"+r.calcularPerimetro)\n",
    "println(\"Área: \"+r.calcularArea)"
   ]
  },
  {
   "cell_type": "code",
   "execution_count": null,
   "metadata": {},
   "outputs": [],
   "source": []
  }
 ],
 "metadata": {
  "kernelspec": {
   "display_name": "Scala",
   "language": "scala",
   "name": "scala"
  },
  "language_info": {
   "codemirror_mode": "text/x-scala",
   "file_extension": ".scala",
   "mimetype": "text/x-scala",
   "name": "scala211",
   "nbconvert_exporter": "script",
   "pygments_lexer": "scala",
   "version": "2.11.11"
  }
 },
 "nbformat": 4,
 "nbformat_minor": 2
}
