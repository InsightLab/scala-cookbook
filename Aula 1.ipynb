{
 "cells": [
  {
   "cell_type": "markdown",
   "metadata": {},
   "source": [
    "# Aula 1"
   ]
  },
  {
   "cell_type": "markdown",
   "metadata": {},
   "source": [
    "Nesta aula apresentaremos noções básicas da linguagem Scala. Nos exemplos abaixo, abordaremos:\n",
    "* Valores e Variáveis\n",
    "* Tipos\n",
    "* Controle de fluxo\n",
    "* Loops\n",
    "* Funções"
   ]
  },
  {
   "cell_type": "markdown",
   "metadata": {},
   "source": [
    "Para espantar a má sorte, comecemos com o básico:"
   ]
  },
  {
   "cell_type": "code",
   "execution_count": null,
   "metadata": {
    "collapsed": true
   },
   "outputs": [],
   "source": [
    "print(\"Olá Mundo!\")"
   ]
  },
  {
   "cell_type": "markdown",
   "metadata": {},
   "source": [
    "## Valores e Variáveis\n",
    "---\n",
    "Em Scala, nós podemos armazenar informações em valores e variáveis."
   ]
  },
  {
   "cell_type": "markdown",
   "metadata": {},
   "source": [
    "### Valores\n",
    "Valores são informações imutáveis, ou seja, constantes. No exemplo abaixo, criamos um valor e atribuímos **10** a ele:"
   ]
  },
  {
   "cell_type": "code",
   "execution_count": null,
   "metadata": {
    "collapsed": true
   },
   "outputs": [],
   "source": [
    "val valor = 10"
   ]
  },
  {
   "cell_type": "markdown",
   "metadata": {},
   "source": [
    "Como valores são imutáveis, não podemos realizar uma segunda atribuição nele. Quando tentamos atribuir uma nova informação, obtemos o erro de *reassigment to val*:"
   ]
  },
  {
   "cell_type": "code",
   "execution_count": null,
   "metadata": {
    "collapsed": true
   },
   "outputs": [],
   "source": [
    "valor = 20"
   ]
  },
  {
   "cell_type": "markdown",
   "metadata": {},
   "source": [
    "### Variáveis\n",
    "Variáveis são informações mutáveis, ou seja, como o prórpio nome sugere, variáveis. No exemplo abaixo, criamos uma variável e atribuímos **10** a ela:"
   ]
  },
  {
   "cell_type": "code",
   "execution_count": null,
   "metadata": {
    "collapsed": true
   },
   "outputs": [],
   "source": [
    "var variavel = 10"
   ]
  },
  {
   "cell_type": "markdown",
   "metadata": {},
   "source": [
    "Diferente dos valores, modemos alterar a informação da variável:"
   ]
  },
  {
   "cell_type": "code",
   "execution_count": null,
   "metadata": {
    "collapsed": true
   },
   "outputs": [],
   "source": [
    "variavel = 20\n",
    "print(variavel)"
   ]
  },
  {
   "cell_type": "markdown",
   "metadata": {},
   "source": [
    "Porém, nunca podemos mudar o tipo da variável. Caso o façamos, obtemos um erro de *type mismatch*."
   ]
  },
  {
   "cell_type": "code",
   "execution_count": null,
   "metadata": {
    "collapsed": true
   },
   "outputs": [],
   "source": [
    "variavel = \"string\""
   ]
  },
  {
   "cell_type": "markdown",
   "metadata": {},
   "source": [
    "Quando vamos atribuir algo a um **val** ou **var**, podemos escrever um bloco de código. Blocos de código podem retornar informações em Scala."
   ]
  },
  {
   "cell_type": "code",
   "execution_count": null,
   "metadata": {},
   "outputs": [],
   "source": [
    "val x = 1\n",
    "val y = {\n",
    "    val a = 10\n",
    "    a + x\n",
    "}"
   ]
  },
  {
   "cell_type": "markdown",
   "metadata": {},
   "source": [
    "## Tipos\n",
    "---\n",
    "Assim como Java, Scala possui alguns tipos básicos de informações. Para definir o tipo de um valor ou variável, basta usar a seguinte sintaxe:"
   ]
  },
  {
   "cell_type": "code",
   "execution_count": null,
   "metadata": {
    "collapsed": true
   },
   "outputs": [],
   "source": [
    "var x: Int = 10"
   ]
  },
  {
   "cell_type": "markdown",
   "metadata": {},
   "source": [
    "O tipo é definido durante a primeira atribuição. Como em valores realizamos apenas uma atribuição, não é necessário colocar tipo, porém, se quisermos, podemos forçar uma variável a ser de um certo tipo:"
   ]
  },
  {
   "cell_type": "code",
   "execution_count": null,
   "metadata": {
    "collapsed": true
   },
   "outputs": [],
   "source": [
    "var inteiro: Int\n",
    "inteiro = \"string\""
   ]
  },
  {
   "cell_type": "markdown",
   "metadata": {},
   "source": [
    "Os seguintes tipos são os mais utilizados em Scala:\n",
    "* Int - inteiro\n",
    "* Double - decimal\n",
    "* Boolean - booleano\n",
    "* Char - caractere\n",
    "* String - cadeia de caracteres"
   ]
  },
  {
   "cell_type": "code",
   "execution_count": null,
   "metadata": {
    "collapsed": true
   },
   "outputs": [],
   "source": [
    "val inteiro = 1\n",
    "val decimal = 1.5\n",
    "val booleano = true\n",
    "val char = 'c'\n",
    "val string = \"string\""
   ]
  },
  {
   "cell_type": "markdown",
   "metadata": {},
   "source": [
    "### O tipo Any\n",
    "Em Scala, existe um tipo que representa qualquer coisa: **Any**. Uma variável desse tipo pode receber qualquer informação."
   ]
  },
  {
   "cell_type": "code",
   "execution_count": null,
   "metadata": {
    "collapsed": true
   },
   "outputs": [],
   "source": [
    "var any:Any = 1\n",
    "any = 1.5\n",
    "any = true\n",
    "any = 'c'\n",
    "any = \"string\""
   ]
  },
  {
   "cell_type": "markdown",
   "metadata": {},
   "source": [
    "## Controle de fluxo\n",
    "---\n",
    "A sintaxe para controle de fluxo é igual a de linguagens como C, C++ e Java."
   ]
  },
  {
   "cell_type": "code",
   "execution_count": null,
   "metadata": {
    "collapsed": true
   },
   "outputs": [],
   "source": [
    "val x = 11\n",
    "\n",
    "if(x%2==0){\n",
    "    print(x+ \" é par\")\n",
    "}\n",
    "else{\n",
    "    print(x+ \" é ímpar\")\n",
    "}"
   ]
  },
  {
   "cell_type": "markdown",
   "metadata": {},
   "source": [
    "Como Scala é funcional, podemos usar controle de fluxo para retornar valores:"
   ]
  },
  {
   "cell_type": "code",
   "execution_count": null,
   "metadata": {
    "collapsed": true
   },
   "outputs": [],
   "source": [
    "val x = 10\n",
    "var paridade = if(x%2==0) \"par\" else \"ímpar\"\n",
    "print(\"x é \"+paridade)"
   ]
  },
  {
   "cell_type": "markdown",
   "metadata": {},
   "source": [
    "## Loops\n",
    "---\n",
    "Loops em Scala são semelhantes à Java. Porém, Scala conta com um loop do tipo **for** mais poderoso que as demais linguagens."
   ]
  },
  {
   "cell_type": "markdown",
   "metadata": {
    "collapsed": true
   },
   "source": [
    "### For\n",
    "Todo **for** em Scala itera alguma sequência. Para percorrer intervalos de valores, podemos utilizar os geradores **until** e **to** ."
   ]
  },
  {
   "cell_type": "code",
   "execution_count": null,
   "metadata": {
    "collapsed": true
   },
   "outputs": [],
   "source": [
    "println(\"for com until\")\n",
    "for(i <- 1 until 10){\n",
    "    print(i+\" \")\n",
    "}\n",
    "\n",
    "println('\\n')\n",
    "\n",
    "println(\"for com to\")\n",
    "for(i <- 1 to 10){\n",
    "    print(i+\" \")\n",
    "}"
   ]
  },
  {
   "cell_type": "markdown",
   "metadata": {},
   "source": [
    "Quando precisamos fazer laços aninhados (um loop dentro de outro) normalmente utilizamos 2 **for** diferentes."
   ]
  },
  {
   "cell_type": "code",
   "execution_count": null,
   "metadata": {
    "collapsed": true
   },
   "outputs": [],
   "source": [
    "for(i <- 1 to 3)\n",
    "    for(j <- 1 to 3)\n",
    "        print(\"(\"+i+\",\"+j+\") \")"
   ]
  },
  {
   "cell_type": "markdown",
   "metadata": {},
   "source": [
    "Em Scala, podemos usar **for comprehensions**. Em uma única definição de **for** podemos definir a combinação de laços na qual o bloco de comando será executado:"
   ]
  },
  {
   "cell_type": "code",
   "execution_count": null,
   "metadata": {
    "collapsed": true
   },
   "outputs": [],
   "source": [
    "for{\n",
    "    i <- 1 to 3\n",
    "    j <- 1 to 3\n",
    "}{\n",
    "    print(\"(\"+i+\",\"+j+\") \")\n",
    "}"
   ]
  },
  {
   "cell_type": "markdown",
   "metadata": {},
   "source": [
    "Essa compressão também permite definirmos condições sobre os valores do loop."
   ]
  },
  {
   "cell_type": "code",
   "execution_count": null,
   "metadata": {
    "collapsed": true
   },
   "outputs": [],
   "source": [
    "for{\n",
    "    i <- 1 to 3\n",
    "    j <- 1 to 3\n",
    "    if(j>=i)\n",
    "}{\n",
    "    print(\"(\"+i+\",\"+j+\") \")\n",
    "}"
   ]
  },
  {
   "cell_type": "markdown",
   "metadata": {},
   "source": [
    "### While\n",
    "Em Scala, o laço do tipo **while** é análogo às outras linguagens:"
   ]
  },
  {
   "cell_type": "code",
   "execution_count": null,
   "metadata": {
    "collapsed": true
   },
   "outputs": [],
   "source": [
    "var i = 1\n",
    "while(i<=10){\n",
    "    print(i+\" \")\n",
    "    i = i + 1\n",
    "}"
   ]
  },
  {
   "cell_type": "markdown",
   "metadata": {},
   "source": [
    "### Do While\n",
    "Assim como o **while**, o laço do tipo **do while** é análogo às outras linguagens:"
   ]
  },
  {
   "cell_type": "code",
   "execution_count": null,
   "metadata": {
    "collapsed": true
   },
   "outputs": [],
   "source": [
    "var i = 0\n",
    "do {\n",
    "    print(i+\" \")\n",
    "    i = i+1\n",
    "}while(i<10)"
   ]
  },
  {
   "cell_type": "markdown",
   "metadata": {
    "collapsed": true
   },
   "source": [
    "## Funções\n",
    "---\n",
    "Em Scala, diferente de Java, além de métodos nós temos **funções**. A lógica para definir uma função é simples:\n",
    "começamos com **def** seguido pelo nome da função, em seguida apresentamos os **parâmetros** e seus **tipos** e, por fim, o **tipo do retorno** da função."
   ]
  },
  {
   "cell_type": "code",
   "execution_count": null,
   "metadata": {
    "collapsed": true
   },
   "outputs": [],
   "source": [
    "def soma1(x: Int): Int = {\n",
    "    return x + 1\n",
    "}\n",
    "\n",
    "print(soma1(10))"
   ]
  },
  {
   "cell_type": "markdown",
   "metadata": {},
   "source": [
    "### Particularidades:"
   ]
  },
  {
   "cell_type": "markdown",
   "metadata": {},
   "source": [
    "Uma função que não tem retorno é do tipo **Unit** (semelhante ao **void** em Java)."
   ]
  },
  {
   "cell_type": "code",
   "execution_count": null,
   "metadata": {
    "collapsed": true
   },
   "outputs": [],
   "source": [
    "def mostra(x: Any): Unit = {\n",
    "    println(x)\n",
    "}\n",
    "\n",
    "mostra(10)"
   ]
  },
  {
   "cell_type": "markdown",
   "metadata": {},
   "source": [
    "Assim como em estruturas de controle e laços, não precisamos colocar o código da função entre parênteses quando for uma função de apenas uma linha de código."
   ]
  },
  {
   "cell_type": "code",
   "execution_count": null,
   "metadata": {
    "collapsed": true
   },
   "outputs": [],
   "source": [
    "def soma1(x: Int): Int = return x+1\n",
    "print(soma1(10))"
   ]
  },
  {
   "cell_type": "markdown",
   "metadata": {},
   "source": [
    "Não precisamos utilizar **return** para retornar um valor, basta que esse valor seja escrito no fim da função."
   ]
  },
  {
   "cell_type": "code",
   "execution_count": null,
   "metadata": {
    "collapsed": true
   },
   "outputs": [],
   "source": [
    "def soma1(x: Int): Int = x+1\n",
    "print(soma1(10))"
   ]
  },
  {
   "cell_type": "markdown",
   "metadata": {},
   "source": [
    "Não precisamos determinar o tipo do retorno de uma função, pois o compilador é capaz de inferir esse tipo. "
   ]
  },
  {
   "cell_type": "code",
   "execution_count": null,
   "metadata": {
    "collapsed": true
   },
   "outputs": [],
   "source": [
    "def soma1(x: Int) = x+1\n",
    "print(soma1(10))"
   ]
  },
  {
   "cell_type": "markdown",
   "metadata": {},
   "source": [
    "Quando uma função pode ter mais de um tipo de retorno, o compilador define o retorno da função como um tipo intermediário."
   ]
  },
  {
   "cell_type": "code",
   "execution_count": null,
   "metadata": {},
   "outputs": [],
   "source": [
    "def f(x: Int) = if(x>0) 1 else 0.0\n",
    "\n",
    "val x = f(0)\n",
    "val y = f(1)"
   ]
  },
  {
   "cell_type": "code",
   "execution_count": null,
   "metadata": {},
   "outputs": [],
   "source": [
    "def f(x: Int) = if(x>0) 1 else \"menor ou igual à 0\"\n",
    "\n",
    "val x = f(0)\n",
    "val y = f(1)"
   ]
  },
  {
   "cell_type": "markdown",
   "metadata": {},
   "source": [
    "Em **funções recursivas**, é **necessário** definir o tipo, pois é uma operação muito custosa inferir todas as possibilidades de retorno de uma função recursiva."
   ]
  },
  {
   "cell_type": "code",
   "execution_count": null,
   "metadata": {
    "collapsed": true
   },
   "outputs": [],
   "source": [
    "def mostraRecursivo(x: Int) = {\n",
    "    if(x>0){\n",
    "        print(x+\", \")\n",
    "        mostraRecursivo(x-1)\n",
    "    }\n",
    "    else print(x)\n",
    "}\n",
    "\n",
    "mostraRecursivo(10)"
   ]
  },
  {
   "cell_type": "code",
   "execution_count": null,
   "metadata": {
    "collapsed": true
   },
   "outputs": [],
   "source": [
    "def mostraRecursivo(x: Int): Unit = {\n",
    "    if(x>0){\n",
    "        print(x+\", \")\n",
    "        mostraRecursivo(x-1)\n",
    "    }\n",
    "    else print(x)\n",
    "}\n",
    "\n",
    "mostraRecursivo(10)"
   ]
  },
  {
   "cell_type": "markdown",
   "metadata": {},
   "source": [
    "## Exercícios\n",
    "---"
   ]
  },
  {
   "cell_type": "markdown",
   "metadata": {},
   "source": [
    "### 1. Escreva uma função que receba um inteiro n retorna o *n-ésimo* número de Fibonnaci"
   ]
  },
  {
   "cell_type": "code",
   "execution_count": null,
   "metadata": {
    "collapsed": true
   },
   "outputs": [],
   "source": []
  },
  {
   "cell_type": "markdown",
   "metadata": {},
   "source": [
    "### 2. Escreva uma função que gere todas as peças de um Dominó"
   ]
  },
  {
   "cell_type": "code",
   "execution_count": null,
   "metadata": {
    "collapsed": true
   },
   "outputs": [],
   "source": []
  },
  {
   "cell_type": "markdown",
   "metadata": {},
   "source": [
    "### 3. Escreva uma função que mostre o elemento *(i, j)* do Triângulo de Pascal\n",
    "1  \n",
    "1 1  \n",
    "1 2 1  \n",
    "1 3 3 1  \n",
    "1 4 6 4 1  \n",
    "1 5 10 10 5 1  \n",
    "..."
   ]
  },
  {
   "cell_type": "code",
   "execution_count": null,
   "metadata": {
    "collapsed": true
   },
   "outputs": [],
   "source": []
  }
 ],
 "metadata": {
  "kernelspec": {
   "display_name": "Scala",
   "language": "scala",
   "name": "scala"
  },
  "language_info": {
   "codemirror_mode": "text/x-scala",
   "file_extension": ".scala",
   "mimetype": "text/x-scala",
   "name": "scala211",
   "nbconvert_exporter": "script",
   "pygments_lexer": "scala",
   "version": "2.11.11"
  }
 },
 "nbformat": 4,
 "nbformat_minor": 2
}
