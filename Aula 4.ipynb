{
 "cells": [
  {
   "cell_type": "markdown",
   "metadata": {},
   "source": [
    "# Aula 4\n",
    "A partir dessa aula nosso estudo será mais direcionado para o viés funcional de Scala. Nesta aula será apresentado o conceito e aplicação de *Pattern Matching*"
   ]
  },
  {
   "cell_type": "markdown",
   "metadata": {},
   "source": [
    "## *Pattern Matching*\n",
    "---"
   ]
  },
  {
   "cell_type": "markdown",
   "metadata": {},
   "source": [
    "Em várias linguagens existe um operador chamado *switch*, que funciona como uma sucessiva aplicação de *if* e *else*. Em Scala, o operador que faz isso é chamado de *match*. O exemplo abaixo demonstra um simples funcionamento do *match*, onde reescrevemos o encadeamento de estruturas de controle utilizando *pattern matching*:\n"
   ]
  },
  {
   "cell_type": "code",
   "execution_count": 7,
   "metadata": {},
   "outputs": [
    {
     "name": "stdout",
     "output_type": "stream",
     "text": [
      "x = 5\n",
      "x = 5\n"
     ]
    },
    {
     "data": {
      "text/plain": [
       "\u001b[36mx\u001b[39m: \u001b[32mInt\u001b[39m = \u001b[32m5\u001b[39m"
      ]
     },
     "execution_count": 7,
     "metadata": {},
     "output_type": "execute_result"
    }
   ],
   "source": [
    "val x = 5\n",
    "\n",
    "if(x==5) println(\"x = 5\") //caso x seja 5\n",
    "else if(x==10) println(\"x = 10\") //caso x seja 10\n",
    "else println(\"x não é 5 nem 10\") //caso x não seja nem 5 nem 10\n",
    "\n",
    "x match {\n",
    "    case 5 => println(\"x = 5\") //caso x seja 5\n",
    "    case 10 => println(\"x = 10\") //caso x seja 10\n",
    "    case _ => println(\"x não é 5 nem 10\") //caso x não seja nem 5 nem 10\n",
    "}"
   ]
  },
  {
   "cell_type": "markdown",
   "metadata": {},
   "source": [
    "Diferente de outras linguagens, o *pattern matching* aceita não só comparação com números inteiros, mas sim com qualquer valor:"
   ]
  },
  {
   "cell_type": "code",
   "execution_count": 8,
   "metadata": {},
   "outputs": [
    {
     "name": "stdout",
     "output_type": "stream",
     "text": [
      "olá! :D\n"
     ]
    },
    {
     "data": {
      "text/plain": [
       "\u001b[36ms\u001b[39m: \u001b[32mString\u001b[39m = \u001b[32m\"olá\"\u001b[39m"
      ]
     },
     "execution_count": 8,
     "metadata": {},
     "output_type": "execute_result"
    }
   ],
   "source": [
    "val s = \"olá\"\n",
    "\n",
    "s match {\n",
    "    case \"olá\" => println(\"olá! :D\")\n",
    "    case \"oi\" => println(\"oi! :)\")\n",
    "    case _ => println(\"é o que mah?\")\n",
    "}"
   ]
  },
  {
   "cell_type": "markdown",
   "metadata": {},
   "source": [
    "### Exemplo de aplicação: Expressões Lógicas\n",
    "\n",
    "Vamos implementar expressões lógicas utilizando *pattern matching*. Primeiramente, vamos obter as classes bases para os operadores:"
   ]
  },
  {
   "cell_type": "code",
   "execution_count": 15,
   "metadata": {},
   "outputs": [
    {
     "data": {
      "text/plain": [
       "defined \u001b[32mclass\u001b[39m \u001b[36mExpressaoLogica\u001b[39m\n",
       "defined \u001b[32mclass\u001b[39m \u001b[36mConstante\u001b[39m\n",
       "defined \u001b[32mclass\u001b[39m \u001b[36mOperacaoUnaria\u001b[39m\n",
       "defined \u001b[32mclass\u001b[39m \u001b[36mOperacaoBinaria\u001b[39m"
      ]
     },
     "execution_count": 15,
     "metadata": {},
     "output_type": "execute_result"
    }
   ],
   "source": [
    "abstract class ExpressaoLogica {\n",
    "    val tipo: String //adicionamos esse atributo para sabermos o nome da operação em questão\n",
    "    def apply(): Boolean\n",
    "    //metodos para obter os valores das variáveis da expressao\n",
    "    def v1: ExpressaoLogica \n",
    "    def v2: ExpressaoLogica\n",
    "}\n",
    "\n",
    "class Constante(p: Boolean) extends ExpressaoLogica{\n",
    "    val tipo: String = \"Constante\" //nessa classe, nossa expressão é uma constante\n",
    "    \n",
    "    def apply(): Boolean = p\n",
    "    \n",
    "    def v1: ExpressaoLogica = null\n",
    "    def v2: ExpressaoLogica = null\n",
    "}\n",
    "\n",
    "abstract class OperacaoUnaria(p: ExpressaoLogica) extends ExpressaoLogica{\n",
    "    def v1: ExpressaoLogica = p\n",
    "    def v2: ExpressaoLogica = null\n",
    "}\n",
    "\n",
    "abstract class OperacaoBinaria(p: ExpressaoLogica, q: ExpressaoLogica) extends ExpressaoLogica{\n",
    "    def v1: ExpressaoLogica = p\n",
    "    def v2: ExpressaoLogica = q\n",
    "}"
   ]
  },
  {
   "cell_type": "markdown",
   "metadata": {},
   "source": [
    "Vamos trabalhar utilizando os seguintes operadores lógicos:\n",
    "* Ou (binário)\n",
    "* E (binário)\n",
    "* Não (unário)\n",
    "* Implica (binário)"
   ]
  },
  {
   "cell_type": "code",
   "execution_count": 16,
   "metadata": {},
   "outputs": [
    {
     "data": {
      "text/plain": [
       "defined \u001b[32mclass\u001b[39m \u001b[36mNao\u001b[39m\n",
       "defined \u001b[32mclass\u001b[39m \u001b[36mOu\u001b[39m\n",
       "defined \u001b[32mclass\u001b[39m \u001b[36mE\u001b[39m\n",
       "defined \u001b[32mclass\u001b[39m \u001b[36mImplica\u001b[39m"
      ]
     },
     "execution_count": 16,
     "metadata": {},
     "output_type": "execute_result"
    }
   ],
   "source": [
    "class Nao(p: ExpressaoLogica) extends OperacaoUnaria(p){\n",
    "    val tipo: String = \"Nao\"\n",
    "    def apply: Boolean = !p()\n",
    "}\n",
    "\n",
    "class Ou(p: ExpressaoLogica, q: ExpressaoLogica) extends OperacaoBinaria(p,q){\n",
    "    val tipo: String = \"Ou\"\n",
    "    def apply: Boolean = p() || q()\n",
    "}\n",
    "\n",
    "class E(p: ExpressaoLogica, q: ExpressaoLogica) extends OperacaoBinaria(p,q){\n",
    "    val tipo: String = \"E\"\n",
    "    def apply: Boolean = p() && q()\n",
    "}\n",
    "\n",
    "class Implica(p: ExpressaoLogica, q: ExpressaoLogica) extends OperacaoBinaria(p,q){\n",
    "    val tipo: String = \"Implica\"\n",
    "    def apply: Boolean = !p() || q()\n",
    "}"
   ]
  },
  {
   "cell_type": "markdown",
   "metadata": {},
   "source": [
    "Vamos criar um object para receber uma ExpressaoLogica e resolvê-la recursivamente usando *pattern matching*"
   ]
  },
  {
   "cell_type": "code",
   "execution_count": 19,
   "metadata": {},
   "outputs": [
    {
     "data": {
      "text/plain": [
       "defined \u001b[32mobject\u001b[39m \u001b[36mSolver\u001b[39m\n",
       "\u001b[36me\u001b[39m: \u001b[32mOu\u001b[39m = $sess.cmd15Wrapper$Helper$Ou@7114de97\n",
       "\u001b[36mres18_2\u001b[39m: \u001b[32mBoolean\u001b[39m = \u001b[32mtrue\u001b[39m"
      ]
     },
     "execution_count": 19,
     "metadata": {},
     "output_type": "execute_result"
    }
   ],
   "source": [
    "object Solver {\n",
    "    def apply(expr: ExpressaoLogica): Boolean = expr.tipo match {\n",
    "        case \"Constante\" => expr()\n",
    "        case \"Nao\" => !(apply(expr.v1))\n",
    "        case \"Ou\" => apply(expr.v1) || apply(expr.v2)\n",
    "        case \"E\" => apply(expr.v1) && apply(expr.v2)\n",
    "        case \"Implica\" => !(apply(expr.v1)) || apply(expr.v2)\n",
    "        case _ =>{\n",
    "            println(\"Operação não reconhecida\")\n",
    "            false\n",
    "        }\n",
    "    }\n",
    "}\n",
    "\n",
    "//(true && true) || (false -> !true) \n",
    "val e = new Ou(\n",
    "    new E(\n",
    "        new Constante(true),new Constante(true)\n",
    "    ),\n",
    "    new Implica(\n",
    "        new Constante(false),\n",
    "        new Nao(\n",
    "            new Constante(true)\n",
    "        )\n",
    "    )\n",
    ")\n",
    "\n",
    "Solver(e)"
   ]
  },
  {
   "cell_type": "markdown",
   "metadata": {},
   "source": [
    "### Refinando o *Pattern Matching*: Case Class\n",
    "Como vimos, podemos aplicar o operador *match* sobre qualquer tipo. Existe um recurso em Scala chamado de *case class*: uma classe que pode ser usada no *pattern matching* para obter os **valores utilizados para a criação do objeto**. Vamos ao exemplo a seguir: "
   ]
  },
  {
   "cell_type": "code",
   "execution_count": 2,
   "metadata": {},
   "outputs": [
    {
     "name": "stdout",
     "output_type": "stream",
     "text": [
      "Dois valores: 5, abacaxi"
     ]
    },
    {
     "data": {
      "text/plain": [
       "defined \u001b[32mclass\u001b[39m \u001b[36mValor\u001b[39m\n",
       "defined \u001b[32mclass\u001b[39m \u001b[36mUmValor\u001b[39m\n",
       "defined \u001b[32mclass\u001b[39m \u001b[36mDoisValores\u001b[39m\n",
       "defined \u001b[32mclass\u001b[39m \u001b[36mTresValores\u001b[39m\n",
       "\u001b[36mm\u001b[39m: \u001b[32mValor\u001b[39m = DoisValores(5,abacaxi)"
      ]
     },
     "execution_count": 2,
     "metadata": {},
     "output_type": "execute_result"
    }
   ],
   "source": [
    "abstract class Valor()\n",
    "\n",
    "case class UmValor(a: Int) extends Valor //exemplo de uma classe com um valor\n",
    "\n",
    "case class DoisValores(a: Int, b: String) extends Valor //exemplo de uma classe com dois valores\n",
    "\n",
    "case class TresValores(a: Int, b: Int, c: Int) extends Valor //exemplo de uma classe com três valores\n",
    "\n",
    "val m: Valor = new DoisValores(5,\"abacaxi\")\n",
    "\n",
    "m match {\n",
    "    case UmValor(x) => print(s\"Apenas um valor: $x\")\n",
    "    case DoisValores(x,y) => print(s\"Dois valores: $x, $y\")\n",
    "    case TresValores(x,y,z) => print(s\"Três valores: $x, $y, $z\")\n",
    "}"
   ]
  },
  {
   "cell_type": "markdown",
   "metadata": {},
   "source": [
    "### Refinando o exemplodas Expressões Lógicas\n",
    "\n",
    "Vamos transformar as classes anteriores em *case class* para que não precisemos de métodos para acessar os atributos. O código final ficará assim:"
   ]
  },
  {
   "cell_type": "code",
   "execution_count": 3,
   "metadata": {},
   "outputs": [
    {
     "data": {
      "text/plain": [
       "defined \u001b[32mclass\u001b[39m \u001b[36mExpressaoLogica\u001b[39m\n",
       "defined \u001b[32mclass\u001b[39m \u001b[36mConstante\u001b[39m\n",
       "defined \u001b[32mclass\u001b[39m \u001b[36mNao\u001b[39m\n",
       "defined \u001b[32mclass\u001b[39m \u001b[36mOu\u001b[39m\n",
       "defined \u001b[32mclass\u001b[39m \u001b[36mE\u001b[39m\n",
       "defined \u001b[32mclass\u001b[39m \u001b[36mImplica\u001b[39m\n",
       "defined \u001b[32mobject\u001b[39m \u001b[36mSolver\u001b[39m\n",
       "\u001b[36me\u001b[39m: \u001b[32mOu\u001b[39m = Ou(E(Constante(true),Constante(true)),Implica(Constante(false),Nao(Constante(true))))\n",
       "\u001b[36mres2_8\u001b[39m: \u001b[32mBoolean\u001b[39m = \u001b[32mtrue\u001b[39m"
      ]
     },
     "execution_count": 3,
     "metadata": {},
     "output_type": "execute_result"
    }
   ],
   "source": [
    "abstract class ExpressaoLogica\n",
    "\n",
    "case class Constante(p: Boolean) extends ExpressaoLogica\n",
    "\n",
    "case class Nao(p: ExpressaoLogica) extends ExpressaoLogica\n",
    "\n",
    "case class Ou(p: ExpressaoLogica, q: ExpressaoLogica) extends ExpressaoLogica\n",
    "\n",
    "case class E(p: ExpressaoLogica, q: ExpressaoLogica) extends ExpressaoLogica\n",
    "\n",
    "case class Implica(p: ExpressaoLogica, q: ExpressaoLogica) extends ExpressaoLogica\n",
    "\n",
    "object Solver {\n",
    "    def apply(expr: ExpressaoLogica): Boolean = expr match {\n",
    "        case Constante(p) => p\n",
    "        case Nao(p) => !(apply(p))\n",
    "        case Ou(p,q) => apply(p) || apply(q)\n",
    "        case E(p,q) => apply(p) && apply(q)\n",
    "        case Implica(p,q) => !(apply(p)) || apply(q)\n",
    "        case _ =>{\n",
    "            println(\"Operação não reconhecida\")\n",
    "            false\n",
    "        }\n",
    "    }\n",
    "}\n",
    "\n",
    "//(true && true) || (false -> !true) \n",
    "val e = new Ou(\n",
    "    new E(\n",
    "        new Constante(true),new Constante(true)\n",
    "    ),\n",
    "    new Implica(\n",
    "        new Constante(false),\n",
    "        new Nao(\n",
    "            new Constante(true)\n",
    "        )\n",
    "    )\n",
    ")\n",
    "\n",
    "Solver(e)"
   ]
  },
  {
   "cell_type": "markdown",
   "metadata": {},
   "source": [
    "## Exercícios\n",
    "---"
   ]
  },
  {
   "cell_type": "markdown",
   "metadata": {},
   "source": [
    "### Escreva implementações para Expressões Numéricas como soma, subtração, divisão, etc., utilizando *pattern matching* e *case class*, conforme o exemplo das Expressões Lógicas."
   ]
  },
  {
   "cell_type": "code",
   "execution_count": null,
   "metadata": {},
   "outputs": [],
   "source": []
  }
 ],
 "metadata": {
  "kernelspec": {
   "display_name": "Scala",
   "language": "scala",
   "name": "scala"
  },
  "language_info": {
   "codemirror_mode": "text/x-scala",
   "file_extension": ".scala",
   "mimetype": "text/x-scala",
   "name": "scala211",
   "nbconvert_exporter": "script",
   "pygments_lexer": "scala",
   "version": "2.11.11"
  }
 },
 "nbformat": 4,
 "nbformat_minor": 2
}
