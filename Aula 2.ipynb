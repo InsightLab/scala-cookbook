{
 "cells": [
  {
   "cell_type": "markdown",
   "metadata": {},
   "source": [
    "# Aula 2\n",
    "Nessa aula aprofundaremos um pouco em Scala, apresentando como trabalhar com Orientação à Objetos. O foco dessa aula é:\n",
    "\n",
    "* Classes\n",
    "* Objetos\n",
    "* Herança"
   ]
  },
  {
   "cell_type": "markdown",
   "metadata": {},
   "source": [
    "## Classes\n",
    "---\n",
    "Criar uma classe em Scala é bastante similar à criação de classes em Java:"
   ]
  },
  {
   "cell_type": "code",
   "execution_count": null,
   "metadata": {},
   "outputs": [],
   "source": [
    "class Pessoa {}"
   ]
  },
  {
   "cell_type": "markdown",
   "metadata": {},
   "source": [
    "Adicionaremos em nossa classe Pessoa os atributos *nome* e *CPF*:"
   ]
  },
  {
   "cell_type": "code",
   "execution_count": null,
   "metadata": {},
   "outputs": [],
   "source": [
    "class Pessoa {\n",
    "    var nome: String = null\n",
    "    var cpf: String = null\n",
    "}"
   ]
  },
  {
   "cell_type": "markdown",
   "metadata": {},
   "source": [
    "Para instanciar um objeto da classe Pessoa, basta utilizar a mesma sintaxe do Java. Por padrão, todos os atributos definido dentro na classe são públicos e podem ser acessados direto pelo nome"
   ]
  },
  {
   "cell_type": "code",
   "execution_count": null,
   "metadata": {},
   "outputs": [],
   "source": [
    "val mario = new Pessoa\n",
    "\n",
    "mario.nome = \"Mario\"\n",
    "mario.cpf = \"060.000.000-00\"\n",
    "\n",
    "println(mario.nome)\n",
    "println(mario.cpf)"
   ]
  },
  {
   "cell_type": "markdown",
   "metadata": {},
   "source": [
    "Em Java, podemos utilizar métodos construtores para definir valores iniciais aos atributos. Em Scala, as classes possuem um construtor principal que é definido no momento da criação da classe. Esse construtor define os valores iniciais de *nome* e *CPF*"
   ]
  },
  {
   "cell_type": "code",
   "execution_count": null,
   "metadata": {},
   "outputs": [],
   "source": [
    "class Pessoa(nome: String, cpf: String)\n",
    "\n",
    "val mario = new Pessoa(\"Mário\", \"060.000.000-00\")"
   ]
  },
  {
   "cell_type": "markdown",
   "metadata": {},
   "source": [
    "Diferente dos atributos definidos dentro da classe, os atributos definidos no construtor principal são **privados**. Para serem acessados, é necessário criar métodos para isso. A definição de métodos é igual a definição de funções.  \n",
    "**OBS**: por padrão, todos os métodos de uma classe em Scala são públicos."
   ]
  },
  {
   "cell_type": "code",
   "execution_count": null,
   "metadata": {},
   "outputs": [],
   "source": [
    "class Pessoa(nome: String, cpf: String){\n",
    "    def getNome = nome\n",
    "    def getCPF = cpf\n",
    "}\n",
    "\n",
    "val mario = new Pessoa(\"Mário\", \"060.000.000-00\")\n",
    "\n",
    "//Em métodos e funções que não recebem parâmetros, não é necessário utilizar parênteses\n",
    "println(mario.getNome)\n",
    "println(mario.getCPF)"
   ]
  },
  {
   "cell_type": "markdown",
   "metadata": {},
   "source": [
    "Para definirmos mais de um contrutor em Scala, é necessário que haja um *mapeamento* entre o novo connstrutor e o contrutor principal. Por exemplo: nem toda pessoa tem CPF, portanto devemos poder instanciar um objeto da classe Pessoa sem informar o valor do CPF. Para isso, precisamos criar um novo construtor, o qual não recebe o CPF, que utilize o construtor principal da classe. Nesse exemplo, definiremos que uma pessoa que não possui CPF vai ter, no atributo CPF, o valor \"Não cadastrado\":"
   ]
  },
  {
   "cell_type": "code",
   "execution_count": null,
   "metadata": {},
   "outputs": [],
   "source": [
    "class Pessoa(nome: String, cpf: String){\n",
    "    \n",
    "    //O novo construtor precisa fazer uma chamada ao construtor principal\n",
    "    def this(nome: String) = this(nome, \"Não cadastrado\")\n",
    "    \n",
    "    def getNome = nome\n",
    "    def getCPF = cpf\n",
    "}\n",
    "\n",
    "val mario = new Pessoa(\"Mário\")\n",
    "\n",
    "println(mario.getNome)\n",
    "println(mario.getCPF)"
   ]
  },
  {
   "cell_type": "markdown",
   "metadata": {},
   "source": [
    "**OBS**: tanto para os atributos quanto para os métodos, os modificadores *private* e *public* podem ser utilizados."
   ]
  },
  {
   "cell_type": "markdown",
   "metadata": {},
   "source": [
    "Assim como em Java, podemos definir o método **toString** em Scala fazendo uma **sobrescrita** (conceito que será abordado mais adiante)."
   ]
  },
  {
   "cell_type": "code",
   "execution_count": null,
   "metadata": {},
   "outputs": [],
   "source": [
    "class Pessoa(nome: String, cpf: String){\n",
    "    def this(nome: String) = this(nome, \"Não cadastrado\")\n",
    "    \n",
    "    def getNome = nome\n",
    "    def getCPF = cpf\n",
    "    \n",
    "    override def toString = \"Nome: \"+nome+\", CPF: \"+cpf\n",
    "}\n",
    "\n",
    "val mario = new Pessoa(\"Mário\")\n",
    "print(mario)"
   ]
  },
  {
   "cell_type": "markdown",
   "metadata": {},
   "source": [
    "### Operadores\n",
    "Scala permite que o programador defina operações entre instâncias da classe e outros objetos. Isso ocorre pois, em Scala, todas as informações são objetos e suas operações são chamadas de métodos:"
   ]
  },
  {
   "cell_type": "code",
   "execution_count": 2,
   "metadata": {},
   "outputs": [
    {
     "name": "stdout",
     "output_type": "stream",
     "text": [
      "20\n",
      "20\n"
     ]
    },
    {
     "data": {
      "text/plain": [
       "\u001b[36mx\u001b[39m: \u001b[32mInt\u001b[39m = \u001b[32m10\u001b[39m"
      ]
     },
     "execution_count": 2,
     "metadata": {},
     "output_type": "execute_result"
    }
   ],
   "source": [
    "val x = 10\n",
    "\n",
    "//podemos chamar um método como uma operação, usando uma notação mais limpa\n",
    "println(x + 10)\n",
    "//e podemos também chamar um método pela notação padrão, utilizando ponto + nome do método + argumentos\n",
    "println(x.+(10))"
   ]
  },
  {
   "cell_type": "markdown",
   "metadata": {},
   "source": [
    "Para exemplificar o uso de operadores, vamos definir uma classe que representa os números Racionais em forma de fração:"
   ]
  },
  {
   "cell_type": "code",
   "execution_count": 4,
   "metadata": {},
   "outputs": [
    {
     "name": "stdout",
     "output_type": "stream",
     "text": [
      "1/2"
     ]
    },
    {
     "data": {
      "text/plain": [
       "defined \u001b[32mclass\u001b[39m \u001b[36mRacional\u001b[39m\n",
       "\u001b[36mmetade\u001b[39m: \u001b[32mwrapper\u001b[39m.\u001b[32mwrapper\u001b[39m.\u001b[32mRacional\u001b[39m = 1/2"
      ]
     },
     "execution_count": 4,
     "metadata": {},
     "output_type": "execute_result"
    }
   ],
   "source": [
    "class Racional(n: Int, d: Int){\n",
    "    //declaramos essas variáveis para tornar essas informações como públicas\n",
    "    //utilizamos val para evitar sobrescrita\n",
    "    val numerador = n\n",
    "    val denominador = d    \n",
    "    \n",
    "    override def toString: String = numerador.toString+\"/\"+denominador.toString\n",
    "}\n",
    "\n",
    "val metade = new Racional(1,2)\n",
    "print(metade)"
   ]
  },
  {
   "cell_type": "markdown",
   "metadata": {},
   "source": [
    "Vamos definir os seguintes métodos para nossa classe: somar e subtrair:"
   ]
  },
  {
   "cell_type": "code",
   "execution_count": 8,
   "metadata": {},
   "outputs": [
    {
     "name": "stdout",
     "output_type": "stream",
     "text": [
      "soma: 5/6\n",
      "subtração: 1/6\n"
     ]
    },
    {
     "data": {
      "text/plain": [
       "defined \u001b[32mclass\u001b[39m \u001b[36mRacional\u001b[39m\n",
       "\u001b[36mmetade\u001b[39m: \u001b[32mwrapper\u001b[39m.\u001b[32mwrapper\u001b[39m.\u001b[32mRacional\u001b[39m = 1/2\n",
       "\u001b[36mterco\u001b[39m: \u001b[32mwrapper\u001b[39m.\u001b[32mwrapper\u001b[39m.\u001b[32mRacional\u001b[39m = 1/3"
      ]
     },
     "execution_count": 8,
     "metadata": {},
     "output_type": "execute_result"
    }
   ],
   "source": [
    "class Racional(n: Int, d: Int){\n",
    "    //declaramos essas variáveis para tornar essas informações como públicas\n",
    "    //utilizamos val para evitar sobrescrita\n",
    "    val numerador = n\n",
    "    val denominador = d    \n",
    "    \n",
    "    def somar(b: Racional): Racional = \n",
    "        new Racional(numerador*b.denominador + b.numerador * denominador, denominador*b.denominador)\n",
    "    \n",
    "    def subtrair(b: Racional): Racional = \n",
    "        new Racional(numerador*b.denominador - b.numerador * denominador, denominador*b.denominador)\n",
    "    \n",
    "    override def toString: String = numerador.toString+\"/\"+denominador.toString\n",
    "}\n",
    "\n",
    "val metade = new Racional(1,2)\n",
    "val terco = new Racional(1,3)\n",
    "\n",
    "println(\"soma: \"+metade.somar(terco))\n",
    "println(\"subtração: \"+metade.subtrair(terco))"
   ]
  },
  {
   "cell_type": "markdown",
   "metadata": {},
   "source": [
    "Podemos transformar esses métodos em operadores **+** e **-**:"
   ]
  },
  {
   "cell_type": "code",
   "execution_count": 9,
   "metadata": {},
   "outputs": [
    {
     "name": "stdout",
     "output_type": "stream",
     "text": [
      "soma: 5/6\n",
      "subtração: 1/6\n"
     ]
    },
    {
     "data": {
      "text/plain": [
       "defined \u001b[32mclass\u001b[39m \u001b[36mRacional\u001b[39m\n",
       "\u001b[36mmetade\u001b[39m: \u001b[32mwrapper\u001b[39m.\u001b[32mwrapper\u001b[39m.\u001b[32mRacional\u001b[39m = 1/2\n",
       "\u001b[36mterco\u001b[39m: \u001b[32mwrapper\u001b[39m.\u001b[32mwrapper\u001b[39m.\u001b[32mRacional\u001b[39m = 1/3"
      ]
     },
     "execution_count": 9,
     "metadata": {},
     "output_type": "execute_result"
    }
   ],
   "source": [
    "class Racional(n: Int, d: Int){\n",
    "    //declaramos essas variáveis para tornar essas informações como públicas\n",
    "    //utilizamos val para evitar sobrescrita\n",
    "    val numerador = n\n",
    "    val denominador = d    \n",
    "    \n",
    "    def + (b: Racional): Racional = \n",
    "        new Racional(numerador*b.denominador + b.numerador * denominador, denominador*b.denominador)\n",
    "    \n",
    "    def - (b: Racional): Racional = \n",
    "        new Racional(numerador*b.denominador - b.numerador * denominador, denominador*b.denominador)\n",
    "    \n",
    "    override def toString: String = numerador.toString+\"/\"+denominador.toString\n",
    "}\n",
    "\n",
    "val metade = new Racional(1,2)\n",
    "val terco = new Racional(1,3)\n",
    "\n",
    "println(\"soma: \"+(metade + terco))\n",
    "println(\"subtração: \"+(metade - terco))"
   ]
  },
  {
   "cell_type": "markdown",
   "metadata": {},
   "source": [
    "### Método *apply*\n",
    "Dentre os métodos de uma classe em Scala, existe o método **apply**. Quando acessamos a informação em um certo índice de um *Array*, é o equivalente a chamarmos o método **apply**:"
   ]
  },
  {
   "cell_type": "code",
   "execution_count": 10,
   "metadata": {},
   "outputs": [
    {
     "name": "stdout",
     "output_type": "stream",
     "text": [
      "2\n",
      "2\n"
     ]
    },
    {
     "data": {
      "text/plain": [
       "\u001b[36mx\u001b[39m: \u001b[32mArray\u001b[39m[\u001b[32mInt\u001b[39m] = \u001b[33mArray\u001b[39m(\u001b[32m1\u001b[39m, \u001b[32m2\u001b[39m, \u001b[32m3\u001b[39m)"
      ]
     },
     "execution_count": 10,
     "metadata": {},
     "output_type": "execute_result"
    }
   ],
   "source": [
    "val x = Array(1,2,3)\n",
    "\n",
    "println(x(1))\n",
    "println(x apply 1)"
   ]
  },
  {
   "cell_type": "markdown",
   "metadata": {},
   "source": [
    "## Objetos\n",
    "---\n",
    "Quando falamos de Objetos em Java, nos referimos a uma instância de uma classe. Em Scala, Objetos (*Object*) são uma espécie de *classe estática*. Um objeto possui assinatura similar a de uma classe, porém ele não pode ser instanciado."
   ]
  },
  {
   "cell_type": "code",
   "execution_count": null,
   "metadata": {},
   "outputs": [],
   "source": [
    "object Contador{\n",
    "    private var numero = 10\n",
    "    \n",
    "    def valor = numero\n",
    "    \n",
    "    def tick = {\n",
    "        numero -= 1\n",
    "    }\n",
    "    \n",
    "    def reset = {\n",
    "        numero = 10\n",
    "    }\n",
    "}\n",
    "\n",
    "println(Contador.valor)\n",
    "Contador.tick\n",
    "println(Contador.valor)\n",
    "Contador.tick\n",
    "println(Contador.valor)\n",
    "\n",
    "Contador.reset\n",
    "println(Contador.valor)"
   ]
  },
  {
   "cell_type": "markdown",
   "metadata": {},
   "source": [
    "## Herança\n",
    "---\n",
    "Herança em Scala funciona de maneira análoga ao Java. Para exemplificar, traremos de volta uma versão mais simples da classe Pessoa que definimos anteriormente:"
   ]
  },
  {
   "cell_type": "code",
   "execution_count": null,
   "metadata": {},
   "outputs": [],
   "source": [
    "class Pessoa {\n",
    "    var nome: String = null\n",
    "    var cpf: String = null\n",
    "}"
   ]
  },
  {
   "cell_type": "markdown",
   "metadata": {},
   "source": [
    "Como sabemos, um aluno de faculdade é uma pessoa, porém, além de nome e cpf, ele possui *matrícula*. Portanto, em Orientação à Objetos, podemos dizer que uma classe Aluno deve *extender* a classe Pessoa e deve ter um atributo representando sua matrícula:"
   ]
  },
  {
   "cell_type": "code",
   "execution_count": null,
   "metadata": {},
   "outputs": [],
   "source": [
    "class Aluno extends Pessoa{\n",
    "    var matricula: Int = 0\n",
    "}\n",
    "\n",
    "val carlos = new Aluno\n",
    "\n",
    "carlos.nome = \"Carlos\"\n",
    "carlos.cpf = \"060.000.000-40\"\n",
    "carlos.matricula = 1234\n",
    "\n",
    "println(carlos.nome)\n",
    "println(carlos.cpf)\n",
    "println(carlos.matricula)"
   ]
  },
  {
   "cell_type": "markdown",
   "metadata": {},
   "source": [
    "Na definição da classe Aluno, não colocamos os atributos *nome* e *cpf*. Eles vieram da *superclasse* Pessoa."
   ]
  },
  {
   "cell_type": "markdown",
   "metadata": {},
   "source": [
    "Se quisermos definir um construtor principal para aluno, precisamos também utilizar um dos construtores da *superclasse* de quem ele herda. Para definir um construtor para aluno, informando nome, CPF e matrícula, precisamos definir a classe da seguinte maneira:"
   ]
  },
  {
   "cell_type": "code",
   "execution_count": null,
   "metadata": {},
   "outputs": [],
   "source": [
    "class Pessoa(nome: String, cpf: String){\n",
    "    def getNome = nome\n",
    "    def getCPF = cpf\n",
    "    \n",
    "    override def toString = \"Nome: \"+nome+\", CPF: \"+cpf\n",
    "}\n",
    "\n",
    "class Aluno(nome: String, cpf: String, matricula: Int) extends Pessoa(nome,cpf){\n",
    "    def getMatricula = matricula\n",
    "}"
   ]
  },
  {
   "cell_type": "code",
   "execution_count": null,
   "metadata": {},
   "outputs": [],
   "source": [
    "val carlos = new Aluno(\"Carlos\",\"060.000.000-40\",1234)\n",
    "print(carlos)"
   ]
  },
  {
   "cell_type": "markdown",
   "metadata": {},
   "source": [
    "Quando trabalhamos com herança, podemos realizar a **sobrescrita** dos métodos herdados. No exemplo acima, o Aluno está sendo mostrado como apenas uma pessoa, sem informar sua matrícula. Para corrgir isso, podemos **sobrescrever** o método toString para apresentar também a matrícula:"
   ]
  },
  {
   "cell_type": "code",
   "execution_count": null,
   "metadata": {},
   "outputs": [],
   "source": [
    "class Aluno(nome: String, cpf: String, matricula: Int) extends Pessoa(nome,cpf){\n",
    "    def getMatricula = matricula\n",
    "    override def toString = \"Nome: \"+nome+\", CPF: \"+cpf+\", Matrícula: \"+matricula\n",
    "}\n",
    "\n",
    "val carlos = new Aluno(\"Carlos\",\"060.000.000-40\",1234)\n",
    "print(carlos)"
   ]
  },
  {
   "cell_type": "markdown",
   "metadata": {},
   "source": [
    "## Exercícios"
   ]
  },
  {
   "cell_type": "markdown",
   "metadata": {},
   "source": [
    "### 1. Escreva uma classe que represente uma matriz *m x n* que tenha as seguintes funções:\n",
    "* Criar uma matriz informando suas dimensões (m x n);\n",
    "* Acessar o elemento da matriz dada uma coordenada;\n",
    "* Imprimir a matriz na tela"
   ]
  },
  {
   "cell_type": "code",
   "execution_count": null,
   "metadata": {},
   "outputs": [],
   "source": []
  },
  {
   "cell_type": "markdown",
   "metadata": {},
   "source": [
    "### 2. Escreva operadores para os seguintes métodos entre matrizes:\n",
    "* Soma\n",
    "* Subtração\n",
    "* Produto\n",
    "\n",
    "OBS: lembre de checar as dimensões das matrizes antes das operações"
   ]
  },
  {
   "cell_type": "code",
   "execution_count": null,
   "metadata": {},
   "outputs": [],
   "source": []
  },
  {
   "cell_type": "markdown",
   "metadata": {},
   "source": [
    "### 3. Crie um *Object* para gerar matrizes preenchidas automaticamente com algum valor ou padrão\n",
    "Ex: gerar uma matriz d"
   ]
  }
 ],
 "metadata": {
  "kernelspec": {
   "display_name": "Scala",
   "language": "scala",
   "name": "scala"
  },
  "language_info": {
   "codemirror_mode": "text/x-scala",
   "file_extension": ".scala",
   "mimetype": "text/x-scala",
   "name": "scala211",
   "nbconvert_exporter": "script",
   "pygments_lexer": "scala",
   "version": "2.11.11"
  }
 },
 "nbformat": 4,
 "nbformat_minor": 2
}
