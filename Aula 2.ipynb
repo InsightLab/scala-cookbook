{
 "cells": [
  {
   "cell_type": "markdown",
   "metadata": {},
   "source": [
    "# Aula 2\n",
    "Nessa aula aprofundaremos um pouco em Scala, apresentando como trabalhar com Orientação à Objetos. O foco dessa aula é:\n",
    "\n",
    "* Classes\n",
    "* Objetos\n",
    "* Herança"
   ]
  },
  {
   "cell_type": "markdown",
   "metadata": {},
   "source": [
    "## Objetos\n",
    "---\n",
    "Um objeto é uma estrutura que carrega consigo informações(atributos) e comportamentos(métodos). Objetos são únicos e não podem ser sobrescritos. \n",
    "\n",
    "Podemos escrever um objeto em Scala como um código qualquer. Nesse código:\n",
    "* as variáveis e os valores são *atributos*\n",
    "* as funções são *métodos*\n",
    "\n",
    "Para definir um objeto em Scala basta utilizar a seguinte sintaxe:"
   ]
  },
  {
   "cell_type": "code",
   "execution_count": null,
   "metadata": {
    "collapsed": true
   },
   "outputs": [],
   "source": [
    "object Contador{ //nome do objeto\n",
    "    \n",
    "    var numero = 10 //um atributo que carrega a informação de um número inteiro\n",
    "    \n",
    "    def valor = numero //um método que retorna o valor de \"numero\"\n",
    "    \n",
    "    def tick = { //um método que decrementa o valor de número\n",
    "        numero -= 1\n",
    "    }\n",
    "    \n",
    "    def reset = { //um método que reseta o valor de \"numero\" para 10 \n",
    "        numero = 10\n",
    "    }\n",
    "}\n",
    "\n",
    "println(Contador.valor)\n",
    "Contador.tick\n",
    "println(Contador.valor)\n",
    "Contador.tick\n",
    "println(Contador.valor)\n",
    "\n",
    "Contador.reset\n",
    "println(Contador.valor)"
   ]
  },
  {
   "cell_type": "markdown",
   "metadata": {},
   "source": [
    "## Classes\n",
    "---\n",
    "Grupo de objetos com os **mesmos atributos** e os **mesmos comportamentos** pertencem à mesma classe.\n",
    "\n",
    "Diferente de um objeto, uma classe **precisa** ser atribuída a um valor ou variável.\n",
    "\n",
    "Criar uma classe em Scala é bastante similar à criação de classes em Java:"
   ]
  },
  {
   "cell_type": "code",
   "execution_count": null,
   "metadata": {
    "collapsed": true
   },
   "outputs": [],
   "source": [
    "class Pessoa {\n",
    "    var nome: String = null\n",
    "    var cpf: String = null\n",
    "}"
   ]
  },
  {
   "cell_type": "markdown",
   "metadata": {},
   "source": [
    "Para **instanciar** um objeto da classe Pessoa, basta utilizar a mesma sintaxe do Java: **new NomeDaClasse**. Por padrão, todos os atributos definido dentro na classe são públicos e podem ser acessados direto pelo nome. \n",
    "\n",
    "**OBS**: Os atributos definidos como **val** são apenas para leitura, enquanto os definidos como **var** podem ser atualizados."
   ]
  },
  {
   "cell_type": "code",
   "execution_count": null,
   "metadata": {
    "collapsed": true
   },
   "outputs": [],
   "source": [
    "val mario = new Pessoa\n",
    "\n",
    "mario.nome = \"Mario\"\n",
    "mario.cpf = \"060.000.000-00\"\n",
    "\n",
    "println(mario.nome)\n",
    "println(mario.cpf)"
   ]
  },
  {
   "cell_type": "markdown",
   "metadata": {},
   "source": [
    "Existem um conjunto de métodos chamados de **construtores** que podem ser utilizados para definir valores iniciais aos atributos. Em Scala, as classes possuem um construtor principal que é definido no momento da criação da classe. O construtor abaixo define os valores iniciais de *nome* e *CPF*"
   ]
  },
  {
   "cell_type": "code",
   "execution_count": null,
   "metadata": {
    "collapsed": true
   },
   "outputs": [],
   "source": [
    "class Pessoa(nome: String, cpf: String)\n",
    "\n",
    "val mario = new Pessoa(\"Mário\", \"060.000.000-00\")"
   ]
  },
  {
   "cell_type": "markdown",
   "metadata": {},
   "source": [
    "Diferente dos atributos definidos dentro da classe, os definidos no construtor principal são **privados**, ou seja, são visíveis apenas dentro do escopo do código da classe. Para serem acessados, é necessário criar métodos para isso. A definição de métodos é igual a definição de funções.  "
   ]
  },
  {
   "cell_type": "code",
   "execution_count": null,
   "metadata": {
    "collapsed": true
   },
   "outputs": [],
   "source": [
    "class Pessoa(nome: String, cpf: String){\n",
    "    def getNome = nome\n",
    "    def getCPF = cpf\n",
    "}\n",
    "\n",
    "val mario = new Pessoa(\"Mário\", \"060.000.000-00\")\n",
    "\n",
    "//Em métodos e funções que não recebem parâmetros, não é necessário utilizar parênteses\n",
    "println(mario.getNome)\n",
    "println(mario.getCPF)"
   ]
  },
  {
   "cell_type": "markdown",
   "metadata": {},
   "source": [
    "Para definirmos mais de um contrutor em Scala, é necessário que haja um *mapeamento* entre o novo construtor e o contrutor principal. Por exemplo: nem toda pessoa tem CPF, portanto devemos poder instanciar um objeto da classe Pessoa sem informar o valor do CPF. Para isso, precisamos criar um novo construtor, o qual não recebe o CPF, que utilize o construtor principal da classe.\n",
    "\n",
    "Nesse exemplo, definiremos que uma pessoa que não possui CPF vai ter, no atributo CPF, o valor *\"Não cadastrado\"*:"
   ]
  },
  {
   "cell_type": "code",
   "execution_count": null,
   "metadata": {
    "collapsed": true
   },
   "outputs": [],
   "source": [
    "class Pessoa(nome: String, cpf: String){\n",
    "    \n",
    "    //O novo construtor precisa fazer uma chamada ao construtor principal\n",
    "    def this(nome: String) = this(nome, \"Não cadastrado\")\n",
    "    \n",
    "    def getNome = nome\n",
    "    def getCPF = cpf\n",
    "}\n",
    "\n",
    "val mario = new Pessoa(\"Mário\")\n",
    "\n",
    "println(mario.getNome)\n",
    "println(mario.getCPF)"
   ]
  },
  {
   "cell_type": "markdown",
   "metadata": {},
   "source": [
    "**OBS**: nos atributos e nos métodos, podemos utilizar os seguintes **modificadores**:\n",
    "* *private* - pode ser acessado apenas dentro do código da classe\n",
    "* *public* - pode ser acessado de qualquer lugar"
   ]
  },
  {
   "cell_type": "markdown",
   "metadata": {},
   "source": [
    "### Representando como String"
   ]
  },
  {
   "cell_type": "markdown",
   "metadata": {},
   "source": [
    "Podemos definir um método chamado **toString** para que, quando chamarmos a função *print*, seja feita uma apresentação mais legível do objeto instanciado.\n",
    "\n",
    "Para implementar esse método em Scala, precisamos fazer uma **sobrescrita** (conceito que será abordado mais adiante), tendo de adicionar o modificador **override** antes do nome do método."
   ]
  },
  {
   "cell_type": "code",
   "execution_count": null,
   "metadata": {
    "collapsed": true
   },
   "outputs": [],
   "source": [
    "class Pessoa(nome: String, cpf: String){\n",
    "    def this(nome: String) = this(nome, \"Não cadastrado\")\n",
    "    \n",
    "    def getNome = nome\n",
    "    def getCPF = cpf\n",
    "    \n",
    "    override def toString = \"Nome: \"+nome+\", CPF: \"+cpf\n",
    "}\n",
    "\n",
    "val mario = new Pessoa(\"Mário\")\n",
    "print(mario)"
   ]
  },
  {
   "cell_type": "markdown",
   "metadata": {},
   "source": [
    "### Operadores\n",
    "Scala permite a definição de operações entre instâncias da classe e outros objetos. Isso ocorre pois, em Scala, todas as informações são objetos e suas operações são chamadas de métodos:"
   ]
  },
  {
   "cell_type": "code",
   "execution_count": null,
   "metadata": {
    "collapsed": true
   },
   "outputs": [],
   "source": [
    "val x = 10\n",
    "\n",
    "//podemos chamar um método como uma operação, usando uma notação mais limpa\n",
    "println(x + 10)\n",
    "//e podemos também chamar um método pela notação padrão, utilizando ponto + nome do método + argumentos\n",
    "println(x.+(10))"
   ]
  },
  {
   "cell_type": "markdown",
   "metadata": {},
   "source": [
    "Para exemplificar o uso de operadores, vamos definir uma classe que representa os números Racionais em forma de fração:"
   ]
  },
  {
   "cell_type": "code",
   "execution_count": null,
   "metadata": {
    "collapsed": true
   },
   "outputs": [],
   "source": [
    "class Racional(n: Int, d: Int){\n",
    "    //declaramos essas variáveis para tornar essas informações como públicas\n",
    "    //utilizamos val para evitar sobrescrita\n",
    "    val numerador = n\n",
    "    val denominador = d    \n",
    "    \n",
    "    override def toString: String = numerador.toString+\"/\"+denominador.toString\n",
    "}\n",
    "\n",
    "val metade = new Racional(1,2)\n",
    "print(metade)"
   ]
  },
  {
   "cell_type": "markdown",
   "metadata": {},
   "source": [
    "Vamos definir os seguintes métodos para nossa classe: somar e subtrair:"
   ]
  },
  {
   "cell_type": "code",
   "execution_count": null,
   "metadata": {
    "collapsed": true
   },
   "outputs": [],
   "source": [
    "class Racional(n: Int, d: Int){\n",
    "    //declaramos essas variáveis para tornar essas informações como públicas\n",
    "    //utilizamos val para evitar sobrescrita\n",
    "    val numerador = n\n",
    "    val denominador = d    \n",
    "    \n",
    "    def somar(b: Racional): Racional = \n",
    "        new Racional(numerador*b.denominador + b.numerador * denominador, denominador*b.denominador)\n",
    "    \n",
    "    def subtrair(b: Racional): Racional = \n",
    "        new Racional(numerador*b.denominador - b.numerador * denominador, denominador*b.denominador)\n",
    "    \n",
    "    override def toString: String = numerador.toString+\"/\"+denominador.toString\n",
    "}\n",
    "\n",
    "val metade = new Racional(1,2)\n",
    "val terco = new Racional(1,3)\n",
    "\n",
    "println(\"soma: \"+metade.somar(terco))\n",
    "println(\"subtração: \"+metade.subtrair(terco))"
   ]
  },
  {
   "cell_type": "markdown",
   "metadata": {},
   "source": [
    "Podemos reescrever esses métodos como os seguintes operadores: **+** e **-**:"
   ]
  },
  {
   "cell_type": "code",
   "execution_count": null,
   "metadata": {
    "collapsed": true
   },
   "outputs": [],
   "source": [
    "class Racional(n: Int, d: Int){\n",
    "    //declaramos essas variáveis para tornar essas informações como públicas\n",
    "    //utilizamos val para evitar sobrescrita\n",
    "    val numerador = n\n",
    "    val denominador = d    \n",
    "    \n",
    "    def + (b: Racional): Racional = \n",
    "        new Racional(numerador*b.denominador + b.numerador * denominador, denominador*b.denominador)\n",
    "    \n",
    "    def - (b: Racional): Racional = \n",
    "        new Racional(numerador*b.denominador - b.numerador * denominador, denominador*b.denominador)\n",
    "    \n",
    "    override def toString: String = numerador.toString+\"/\"+denominador.toString\n",
    "}\n",
    "\n",
    "val metade = new Racional(1,2)\n",
    "val terco = new Racional(1,3)\n",
    "\n",
    "println(\"soma: \"+(metade + terco))\n",
    "println(\"subtração: \"+(metade - terco))"
   ]
  },
  {
   "cell_type": "markdown",
   "metadata": {},
   "source": [
    "### Método *apply*\n",
    "Dentre os métodos de uma classe em Scala, existe o método **apply**. Quando acessamos a informação em um certo índice de um *Array*, é o equivalente a chamarmos o método **apply**:"
   ]
  },
  {
   "cell_type": "code",
   "execution_count": null,
   "metadata": {
    "collapsed": true
   },
   "outputs": [],
   "source": [
    "val x = Array(1,2,3)\n",
    "\n",
    "println(x(1))\n",
    "println(x apply 1)"
   ]
  },
  {
   "cell_type": "markdown",
   "metadata": {},
   "source": [
    "### Método *update*\n",
    "O método **update** é similar ao **apply**: ele permite a alteração (ou atribuição). Quando atribuímos um valor a um certo índice de um *Array*, é o equivalente a chamarmos o método **update**:"
   ]
  },
  {
   "cell_type": "code",
   "execution_count": null,
   "metadata": {
    "collapsed": true
   },
   "outputs": [],
   "source": [
    "val x = Array(1,2,3)\n",
    "println(x(1))\n",
    "\n",
    "x(1) = 5\n",
    "println(x(1))\n",
    "\n",
    "x update (1,10)\n",
    "println(x(1))"
   ]
  },
  {
   "cell_type": "markdown",
   "metadata": {},
   "source": [
    "## Herança\n",
    "---\n",
    "Existem cenários em que precisamos criar novas classes e objetos que são semelhantes a outros já definidos, porém, com algumas informações e comportamentos a mais. Para isso, podemos utilizar *herança*.\n",
    "\n",
    "Quando uma classe **B** herda de uma classe **A**, todos os atributos e métodos pertencentes a **A** também pertencem a **B**.\n",
    "\n",
    "Herança em Scala funciona de maneira análoga ao Java. Para exemplificar, traremos de volta uma versão mais simples da classe Pessoa que definimos anteriormente:"
   ]
  },
  {
   "cell_type": "code",
   "execution_count": null,
   "metadata": {
    "collapsed": true
   },
   "outputs": [],
   "source": [
    "class Pessoa {\n",
    "    var nome: String = null\n",
    "    var cpf: String = null\n",
    "}"
   ]
  },
  {
   "cell_type": "markdown",
   "metadata": {},
   "source": [
    "Como sabemos, um aluno de faculdade é uma pessoa, porém, além de nome e cpf, ele possui *matrícula*. Portanto, em Orientação à Objetos, podemos dizer que uma classe Aluno *herda* da classe Pessoa e tem um atributo representando sua matrícula.\n",
    "\n",
    "Para implementar herança em Scala, utilizamos a palavra **extends**"
   ]
  },
  {
   "cell_type": "code",
   "execution_count": null,
   "metadata": {
    "collapsed": true
   },
   "outputs": [],
   "source": [
    "class Aluno extends Pessoa{ //todos os atributos e métodos da classe Pessoa estão presentes em Aluno\n",
    "    var matricula: Int = 0\n",
    "}\n",
    "\n",
    "val carlos = new Aluno\n",
    "\n",
    "carlos.nome = \"Carlos\"\n",
    "carlos.cpf = \"060.000.000-40\"\n",
    "carlos.matricula = 1234\n",
    "\n",
    "println(carlos.nome)\n",
    "println(carlos.cpf)\n",
    "println(carlos.matricula)"
   ]
  },
  {
   "cell_type": "markdown",
   "metadata": {},
   "source": [
    "Se quisermos definir um construtor principal para aluno, precisamos também utilizar um dos construtores da *superclasse* de quem ele herda. Para definir um construtor para aluno, informando nome, CPF e matrícula, precisamos definir a classe da seguinte maneira:"
   ]
  },
  {
   "cell_type": "code",
   "execution_count": null,
   "metadata": {
    "collapsed": true
   },
   "outputs": [],
   "source": [
    "class Pessoa(nome: String, cpf: String){\n",
    "    def getNome = nome\n",
    "    def getCPF = cpf\n",
    "    \n",
    "    override def toString = \"Nome: \"+nome+\", CPF: \"+cpf\n",
    "}\n",
    "\n",
    "class Aluno(nome: String, cpf: String, matricula: Int) extends Pessoa(nome,cpf){\n",
    "    def getMatricula = matricula\n",
    "}"
   ]
  },
  {
   "cell_type": "code",
   "execution_count": null,
   "metadata": {
    "collapsed": true
   },
   "outputs": [],
   "source": [
    "val carlos = new Aluno(\"Carlos\",\"060.000.000-40\",1234)\n",
    "print(carlos)"
   ]
  },
  {
   "cell_type": "markdown",
   "metadata": {},
   "source": [
    "Quando trabalhamos com herança, podemos realizar a **sobrescrita** dos métodos herdados. No exemplo acima, o Aluno está sendo mostrado como apenas uma pessoa, sem informar sua matrícula. Para corrgir isso, podemos **sobrescrever** o método toString para apresentar também a matrícula:"
   ]
  },
  {
   "cell_type": "code",
   "execution_count": null,
   "metadata": {
    "collapsed": true
   },
   "outputs": [],
   "source": [
    "class Aluno(nome: String, cpf: String, matricula: Int) extends Pessoa(nome,cpf){\n",
    "    def getMatricula = matricula\n",
    "    override def toString = \"Nome: \"+nome+\", CPF: \"+cpf+\", Matrícula: \"+matricula\n",
    "}\n",
    "\n",
    "val carlos = new Aluno(\"Carlos\",\"060.000.000-40\",1234)\n",
    "print(carlos)"
   ]
  },
  {
   "cell_type": "markdown",
   "metadata": {},
   "source": [
    "## Exercícios"
   ]
  },
  {
   "cell_type": "markdown",
   "metadata": {},
   "source": [
    "### 1. Escreva uma classe que represente uma matriz *m x n* que tenha os seguintes métodos:\n",
    "* Criar uma matriz informando suas dimensões (m x n);\n",
    "* Acessar o elemento da matriz dada uma coordenada;\n",
    "* Alterar o elemento da matriz dada uma coordenada;\n",
    "* Imprimir a matriz na tela"
   ]
  },
  {
   "cell_type": "code",
   "execution_count": null,
   "metadata": {
    "collapsed": true
   },
   "outputs": [],
   "source": []
  },
  {
   "cell_type": "markdown",
   "metadata": {},
   "source": [
    "### 2. Escreva operadores para os seguintes métodos entre matrizes:\n",
    "* Soma\n",
    "* Subtração\n",
    "* Produto\n",
    "\n",
    "OBS: lembre de checar as dimensões das matrizes antes das operações"
   ]
  },
  {
   "cell_type": "code",
   "execution_count": null,
   "metadata": {
    "collapsed": true
   },
   "outputs": [],
   "source": []
  },
  {
   "cell_type": "markdown",
   "metadata": {},
   "source": [
    "### 3. Crie um *Object* para gerar matrizes preenchidas automaticamente com algum valor ou padrão\n",
    "Ex: \n",
    "* gerar uma matriz de 1's\n",
    "* gerar matriz identidade, etc."
   ]
  },
  {
   "cell_type": "code",
   "execution_count": null,
   "metadata": {
    "collapsed": true
   },
   "outputs": [],
   "source": []
  }
 ],
 "metadata": {
  "kernelspec": {
   "display_name": "Scala",
   "language": "scala",
   "name": "scala"
  },
  "language_info": {
   "codemirror_mode": "text/x-scala",
   "file_extension": ".scala",
   "mimetype": "text/x-scala",
   "name": "scala211",
   "nbconvert_exporter": "script",
   "pygments_lexer": "scala",
   "version": "2.11.11"
  }
 },
 "nbformat": 4,
 "nbformat_minor": 2
}
