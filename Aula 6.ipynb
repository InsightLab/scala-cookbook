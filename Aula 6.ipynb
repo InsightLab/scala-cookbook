{
 "cells": [
  {
   "cell_type": "markdown",
   "metadata": {},
   "source": [
    "# Aula 6\n",
    "\n",
    "Esta aula apresentará como utilizar *Generics* em Scala e algumas das estruturas de dados presentes na linguagem."
   ]
  },
  {
   "cell_type": "markdown",
   "metadata": {},
   "source": [
    "## *Generics*\n",
    "---\n",
    "\n",
    "Em orientação a objetos existe o conceito de *Generics*, o qual torna uma classe **parametrizada**, permitindo que 2 objetos trabalhem com tipos distintos. Tomaremos como exemplo a classe a seguir:"
   ]
  },
  {
   "cell_type": "code",
   "execution_count": null,
   "metadata": {
    "collapsed": true
   },
   "outputs": [],
   "source": [
    "class Amostra[T](elem: T){\n",
    "    def elemento: T = elem\n",
    "}"
   ]
  },
  {
   "cell_type": "markdown",
   "metadata": {},
   "source": [
    "A classe acima é *parametrizada* em *T*. Isso significa que ela pode conter atributos e métodos que trabalhem com o tipo *T*, o qual será definido no momento que um objeto for instanciado."
   ]
  },
  {
   "cell_type": "code",
   "execution_count": null,
   "metadata": {
    "collapsed": true
   },
   "outputs": [],
   "source": [
    "val a = new Amostra[String](\"string\")\n",
    "val b = new Amostra[Int](10)"
   ]
  },
  {
   "cell_type": "markdown",
   "metadata": {},
   "source": [
    "Nos exemplos acima, instanciamos 2 objetos: um parametrizado em String e um em inteiro. Logo, ao instanciarmos os objetos, mandamos um valor do tipo ao qual o objeto foi parametrizado. Se tentarmos misturar esses tipos, obteremos um erro:"
   ]
  },
  {
   "cell_type": "code",
   "execution_count": null,
   "metadata": {
    "collapsed": true
   },
   "outputs": [],
   "source": [
    "val x = new Amostra[String](10)"
   ]
  },
  {
   "cell_type": "markdown",
   "metadata": {},
   "source": [
    "Uma vez com o tipo definido, nosso objeto da classe Amostra substitui *T* pelo tipo ao qual foi parametrizado:"
   ]
  },
  {
   "cell_type": "code",
   "execution_count": null,
   "metadata": {
    "collapsed": true
   },
   "outputs": [],
   "source": [
    "val n: Double = b.elemento\n",
    "val s:String = a.elemento"
   ]
  },
  {
   "cell_type": "markdown",
   "metadata": {},
   "source": [
    "*Generics* permite que os atributos e métodos sejam parametrizados no **ato de instaciação** de um objeto. Porém, Scala permite um passo além disso: o retorno de um método pode ser parametrizado no **ato da chamada de um método**. Vamos usar como exemplo o Object a seguir:"
   ]
  },
  {
   "cell_type": "code",
   "execution_count": null,
   "metadata": {
    "collapsed": true
   },
   "outputs": [],
   "source": [
    "object Retorno{\n",
    "    def apply[U](elemento: U): U = elemento\n",
    "}"
   ]
  },
  {
   "cell_type": "markdown",
   "metadata": {},
   "source": [
    "O object definido acima possui seu método *apply* parametrizado em *U*. Isso significa que o retorno do método **depende do tipo de elemento que é passado como parâmetro**:"
   ]
  },
  {
   "cell_type": "code",
   "execution_count": null,
   "metadata": {
    "collapsed": true
   },
   "outputs": [],
   "source": [
    "val x: Double = Retorno(10.0)\n",
    "val c: Char = Retorno('c')"
   ]
  },
  {
   "cell_type": "markdown",
   "metadata": {},
   "source": [
    "## Estruturas de Daods\n",
    "---\n",
    "\n",
    "Nessa parte da aula, apresentaremos algumas das estruturas de dados mais utilizadas em Scala. Trabalharemos com:\n",
    "* *Tuples* (tuplas)\n",
    "\n",
    "\n",
    "* *Iterables* (iteráveis):\n",
    "    * *Lists* (listas)\n",
    "    * *Sets* (conjuntos)\n",
    "    * *Maps* (listas)\n",
    "    \n",
    "**OBS**: \n",
    "* Scala trabalha com o princípio de *imutabilidade*, ou seja, suas estruturas de dados são geralmente **imutáveis**. Operações que modificam as estruturas normalmente retornam uma nova estrutura com a modificação realizada.\n",
    "* Em Scala, não é necessário utilizar o *new* para criar uma estrutura de dados, basta, se necessário, colocar entre parênteses os elementos iniciais"
   ]
  },
  {
   "cell_type": "markdown",
   "metadata": {},
   "source": [
    "### *Tuples*\n",
    "\n",
    "Tuplas são conjuntos ordenados de informações. Elas têm tamanho pré-definido e são parametrizadas para cada elemento:"
   ]
  },
  {
   "cell_type": "code",
   "execution_count": null,
   "metadata": {
    "collapsed": true
   },
   "outputs": [],
   "source": [
    "val x: (Int,Int) = (1,2)\n",
    "val y: (Int,String,Int) = (10,\"abc\",23)\n",
    "val z: (Int,String,Double,Int,Char) = (10,\"abc\",15.3,2,'o')"
   ]
  },
  {
   "cell_type": "markdown",
   "metadata": {},
   "source": [
    "Para acessar os elementos de uma tupla, basta utilizar a notação *._n*, onde *n* é a posição do elemento da tupla (começando de 1)"
   ]
  },
  {
   "cell_type": "code",
   "execution_count": null,
   "metadata": {
    "collapsed": true
   },
   "outputs": [],
   "source": [
    "println(x._1)\n",
    "println(x._2)"
   ]
  },
  {
   "cell_type": "markdown",
   "metadata": {},
   "source": [
    "Tuplas também permitem atribuição direta de cada elemento a uma variável:"
   ]
  },
  {
   "cell_type": "code",
   "execution_count": null,
   "metadata": {
    "collapsed": true
   },
   "outputs": [],
   "source": [
    "val (a,b,c) = y\n",
    "\n",
    "println(s\"a: $a, b: $b, c: $c\")"
   ]
  },
  {
   "cell_type": "markdown",
   "metadata": {},
   "source": [
    "### *Iterables*\n",
    "\n",
    "Iteráveis são estruturas de dados que podem possuir vários elementos de um mesmo tipo (diferente da tupla, onde precisamos dizer o tipo de cada elemento). Essas estruturas possuem um conjunto de métodos de *Alta Ordem* (métodos que são funções de *Alta Ordem*) para manipular seus elementos. Os tipos mais comuns de estruras Iteráveis são Listas, Conjuntos e Mapas."
   ]
  },
  {
   "cell_type": "markdown",
   "metadata": {},
   "source": [
    "#### Listas\n",
    "\n",
    "Existem 2 tipos de Sequências em Scala: indexadas (Vector, Range, String,...) e lineares (List, Queue, Stream, Stack). Sequências indexadas são sequencias cujo índice do elemento (posição) está armazenado em uma estrutura ordenada (como uma árvore B, por exemplo), permitindo rápido acesso ao elemento em uma determinada posição. Sequências lineares são sequências onde cada elemento possui apenas seu próprio valor e uma referência a um próximo elemento.\n",
    "\n",
    "A implementação de Lista em Scala trabalha com a estrutura *cabeça* e *cauda*: um elemento (cabeça) e uma referência ao restante da lista (cauda)."
   ]
  },
  {
   "cell_type": "code",
   "execution_count": null,
   "metadata": {
    "collapsed": true
   },
   "outputs": [],
   "source": [
    "val l = List[Int](1,2,3)\n",
    "println(l.head)\n",
    "println(l.tail)"
   ]
  },
  {
   "cell_type": "markdown",
   "metadata": {},
   "source": [
    "Como a lista é uma sequência linear, não é comum que ela seja utilizada em cenários onde deseja-se acessar um elemento em uma determinada posição, pois, em sequências lineares, isso implica em percorrer todos os elementos até encontrar a posição desejada."
   ]
  },
  {
   "cell_type": "markdown",
   "metadata": {},
   "source": [
    "Listas em Scala possuem alguns operadores definidos para manipulá-las:"
   ]
  },
  {
   "cell_type": "code",
   "execution_count": null,
   "metadata": {
    "collapsed": true
   },
   "outputs": [],
   "source": [
    "val x = List[Int](1,2,3)\n",
    "\n",
    "println(10 :: x) //adiciona ao início da lista\n",
    "println(x :+ 10) //adiciona ao fim da lista\n",
    "println(x ++ List[Int](4,5)) //adiciona a segunda lista ao final da primeira\n",
    "println(x ::: List[Int](4,5)) //adiciona a segunda lista ao final da primeira"
   ]
  },
  {
   "cell_type": "markdown",
   "metadata": {},
   "source": [
    "Existem alguns métodos comuns a todas as coleções em Scala, a fim de auxiliar na obtenção de informações:"
   ]
  },
  {
   "cell_type": "code",
   "execution_count": null,
   "metadata": {
    "collapsed": true
   },
   "outputs": [],
   "source": [
    "val x = List(1,2,3,2,4)\n",
    "println(x.isEmpty) //está vazia\n",
    "println(x.nonEmpty) //não está vazia\n",
    "println(x.length) //tamanho\n",
    "println(x.contains(1)) //pertinência\n",
    "println(x.sum) //soma dos elementos\n",
    "println(x.product) //produto dos elementos\n",
    "println(x.distinct) //elementos distintos\n",
    "println(x mkString(\",\")) //gera uma string utilizando um separador\n",
    "println(x mkString(\"(\",\",\",\")\")) //gera uma string utilizando um separador, uma string para iniciar e uma para finalizar"
   ]
  },
  {
   "cell_type": "markdown",
   "metadata": {},
   "source": [
    "As coleções iteráveis em Scala também possuem vários métodos de *Alta Ordem* em comum. Nesse caso, eles são de *Alta Ordem* pois recebem uma função como parâmetro. Mostraremos como esses métodos funcionam com as listas. O mesmo vale para os conjuntos (Sets) e para mapas (com algumas modificações neste último). Para os exemplos a seguir, utilizaremos a seguinte lista:"
   ]
  },
  {
   "cell_type": "code",
   "execution_count": null,
   "metadata": {
    "collapsed": true
   },
   "outputs": [],
   "source": [
    "val x = List[Int](1,2,3,4,5,6,7,8,9)"
   ]
  },
  {
   "cell_type": "markdown",
   "metadata": {},
   "source": [
    "* *For Each*: aplica uma certa função sobre os elementos da coleção"
   ]
  },
  {
   "cell_type": "code",
   "execution_count": null,
   "metadata": {
    "collapsed": true
   },
   "outputs": [],
   "source": [
    "x foreach (e => println(e))"
   ]
  },
  {
   "cell_type": "markdown",
   "metadata": {},
   "source": [
    "**OBS**: em funções simples como a do exemplo acima, podemos utilizar uma notação simplificada de função anônima, onde a variável é substituída por _ :"
   ]
  },
  {
   "cell_type": "code",
   "execution_count": null,
   "metadata": {
    "collapsed": true
   },
   "outputs": [],
   "source": [
    "x foreach (println(_))"
   ]
  },
  {
   "cell_type": "markdown",
   "metadata": {},
   "source": [
    "* *Filter*: retorna apenas os elementos da coleção que atendem a um certo predicado (função que recebe um elemento da lista e retorna Boolean)"
   ]
  },
  {
   "cell_type": "code",
   "execution_count": null,
   "metadata": {
    "collapsed": true
   },
   "outputs": [],
   "source": [
    "x.filter(_%2 == 0) //apenas números pares"
   ]
  },
  {
   "cell_type": "markdown",
   "metadata": {},
   "source": [
    "* *Filter Not*: retorna apenas os elementos da coleção que **não** atendem a um certo predicado (função que recebe um elemento da lista e retorna Boolean)"
   ]
  },
  {
   "cell_type": "code",
   "execution_count": null,
   "metadata": {
    "collapsed": true
   },
   "outputs": [],
   "source": [
    "x.filterNot(_%2 == 0) //apenas números NÃO pares"
   ]
  },
  {
   "cell_type": "markdown",
   "metadata": {},
   "source": [
    "* *Exists*: retorna *true* se **existe** algum elemento na lista que satisfaz um predicado"
   ]
  },
  {
   "cell_type": "code",
   "execution_count": null,
   "metadata": {
    "collapsed": true
   },
   "outputs": [],
   "source": [
    "x.exists(_ > 7) //existe um número maior do que 7"
   ]
  },
  {
   "cell_type": "markdown",
   "metadata": {},
   "source": [
    "* *For All*: retorna *true* se **todos** os elementos na lista satisfazem um predicado"
   ]
  },
  {
   "cell_type": "code",
   "execution_count": null,
   "metadata": {
    "collapsed": true
   },
   "outputs": [],
   "source": [
    "x.forall(_ > 5) //todos os elementos são maiores do que 5"
   ]
  },
  {
   "cell_type": "markdown",
   "metadata": {},
   "source": [
    "* *Map*: gera uma nova coleção, aplicando uma função sobre cada elemento da lista"
   ]
  },
  {
   "cell_type": "code",
   "execution_count": null,
   "metadata": {
    "collapsed": true
   },
   "outputs": [],
   "source": [
    "x map (_*2) //lista com o dobro dos elementos"
   ]
  },
  {
   "cell_type": "markdown",
   "metadata": {},
   "source": [
    "* *Flat Map*: é similar ao *map*, porém, a função aplicada a cada elemento deve retornar uma sequência. No final, todas as sequências são encadeadas como uma só"
   ]
  },
  {
   "cell_type": "code",
   "execution_count": null,
   "metadata": {
    "collapsed": true
   },
   "outputs": [],
   "source": [
    "List[Int](1,2,3) flatMap (0 to _) //para cada elemento e, retorna a sequência de 0 à e"
   ]
  },
  {
   "cell_type": "markdown",
   "metadata": {},
   "source": [
    "* *Fold*: dado um acumulador (um valor inicial), é aplicada uma função sobre o acumulador e o elemento da lista. O resultado dessa função será aplicado ao próximo elemento da lista, até que, no final, seja dado um único valor. Existem 2 tipos de *Fold*: *Left*, onde o acumulador é o argumento à esquerda na função e é aplicado da esquerda à direita na coleção, e o *Right*, onde o acumulador é o argumento à direita e a função é aplicada da direita para a esquerda"
   ]
  },
  {
   "cell_type": "code",
   "execution_count": null,
   "metadata": {
    "collapsed": true
   },
   "outputs": [],
   "source": [
    "x.foldLeft(\"\")((acc: String, e: Int) => acc + e.toString) //a aprtir da String vazia (\"\"), \n",
    "//adiciona a string de cada elemento da lista ao acumulador e, no final, retorna uma string"
   ]
  },
  {
   "cell_type": "code",
   "execution_count": null,
   "metadata": {
    "collapsed": true
   },
   "outputs": [],
   "source": [
    "x.foldRight(\"\")((e: Int, acc: String) => acc + e.toString) //a aprtir da String vazia (\"\"), \n",
    "//adiciona a string de cada elemento da lista ao acumulador e, no final, retorna uma string"
   ]
  },
  {
   "cell_type": "markdown",
   "metadata": {},
   "source": [
    "* *Zip*: retorna uma lista de tuplas que combina elementos da coleção com outra"
   ]
  },
  {
   "cell_type": "code",
   "execution_count": null,
   "metadata": {
    "collapsed": true
   },
   "outputs": [],
   "source": [
    "val y = x zip List[Int](9,8,7,6,5,4,3,2,1)\n",
    "print(y)"
   ]
  },
  {
   "cell_type": "markdown",
   "metadata": {},
   "source": [
    "Uma coleção de tuplas permite um *for* um pouco mais expressivo:"
   ]
  },
  {
   "cell_type": "code",
   "execution_count": null,
   "metadata": {
    "collapsed": true
   },
   "outputs": [],
   "source": [
    "for((a,b) <- y) println(s\"($a,$b)\")"
   ]
  },
  {
   "cell_type": "markdown",
   "metadata": {},
   "source": [
    "* *Sort By*: retorna uma coleção ordenada pelo campo inserido. Normalmente é utilizado quando temos coleções de tuplas ou objetos, os quais não possuem um método de comparação definido."
   ]
  },
  {
   "cell_type": "code",
   "execution_count": null,
   "metadata": {
    "collapsed": true
   },
   "outputs": [],
   "source": [
    "val y = List((1,\"c\"),(2,\"b\"),(3,\"a\"))\n",
    "\n",
    "println(y sortBy (_._1)) //ordenando pelo número\n",
    "println(y sortBy (_._2)) //ordenando pela string"
   ]
  },
  {
   "cell_type": "markdown",
   "metadata": {},
   "source": [
    "* *Sort With*: retorna uma coleção que será ordenada a partir de uma função de *prioridade* que é passada, a qual retorna *true* caso o primeiro elemento deve vir antes do segundo e *false* caso contrário"
   ]
  },
  {
   "cell_type": "code",
   "execution_count": null,
   "metadata": {},
   "outputs": [],
   "source": [
    "class A(v: Double){\n",
    "    def valor: Double = v\n",
    "    override def toString: String = s\"A(${v.toString})\"\n",
    "}\n",
    "\n",
    "val y = List[A](new A(10),new A(3),new A(-2),new A(15), new A(10))\n",
    "\n",
    "println(y sortWith ((a,b) => a.valor < b.valor)) //ordenando com função normal\n",
    "println(y sortWith (_.valor < _.valor)) //ordenando com função simplificada"
   ]
  },
  {
   "cell_type": "markdown",
   "metadata": {},
   "source": [
    "* *Group By*: retorna um mapa onde a chave é o valor de agrupamento (obtido de cada elemento da estrutura) e o valor é uma lista de elementos que pertencem ao grupo."
   ]
  },
  {
   "cell_type": "code",
   "execution_count": null,
   "metadata": {},
   "outputs": [],
   "source": [
    "y groupBy (_.valor)"
   ]
  },
  {
   "cell_type": "markdown",
   "metadata": {},
   "source": [
    "#### *Sets*\n",
    "\n",
    "Conjuntos em Scala são, como o nome sujere, estruturas em forma de conjunto, ou seja, não possuem duplicidade nos elementos"
   ]
  },
  {
   "cell_type": "code",
   "execution_count": null,
   "metadata": {
    "collapsed": true
   },
   "outputs": [],
   "source": [
    "val x = Set[Int](1,3,2,3,-1)"
   ]
  },
  {
   "cell_type": "markdown",
   "metadata": {},
   "source": [
    "Em um conjunto, seu método *apply* retorna a pertinência do elemento no conjunto"
   ]
  },
  {
   "cell_type": "code",
   "execution_count": null,
   "metadata": {
    "collapsed": true
   },
   "outputs": [],
   "source": [
    "println(s\"10 pertence à x: ${x(10)}\")\n",
    "println(s\"1 pertence à x: ${x(1)}\")"
   ]
  },
  {
   "cell_type": "markdown",
   "metadata": {},
   "source": [
    "Conjuntos também possuem algumas operações básicas:"
   ]
  },
  {
   "cell_type": "code",
   "execution_count": null,
   "metadata": {
    "collapsed": true
   },
   "outputs": [],
   "source": [
    "println(x + 10) //adição de elemento\n",
    "println(x - 1) //remoção de elemento\n",
    "println(x & Set(2,-1)) //interseção\n",
    "println(x &~ Set(2,-1)) //diferença\n",
    "println(x -- Set(2,-1)) //diferença\n",
    "println(x | Set(20,-5)) //união\n",
    "println(x ++ Set(20,-5)) //união"
   ]
  },
  {
   "cell_type": "markdown",
   "metadata": {},
   "source": [
    "#### Mapas\n",
    "\n",
    "Mapas em Scala são estruturas do formato *chave valor*. Como o nome sugere, dada uma chave *k*, ela possui um valor correspondente *v*. Um mapa pode ser gerado de várias formas: utilizando o construtor de *Map*, uma lista de tuplas de tamanho 2 ou uma lista de *bindings* (mapeamentos chave, valor)"
   ]
  },
  {
   "cell_type": "code",
   "execution_count": null,
   "metadata": {
    "collapsed": true
   },
   "outputs": [],
   "source": [
    "val a = Map(\"a\" -> 1, \"b\" -> 2, \"c\" -> 3)\n",
    "val b = List((\"d\",4),(\"e\",5),(\"f\",6)).toMap\n",
    "val c = List(\"g\"->7,\"h\"->8,\"i\"->9).toMap"
   ]
  },
  {
   "cell_type": "markdown",
   "metadata": {},
   "source": [
    "Mapas também possuem alguns métodos e operadores já definidos:"
   ]
  },
  {
   "cell_type": "code",
   "execution_count": null,
   "metadata": {
    "collapsed": true
   },
   "outputs": [],
   "source": [
    "println(a(\"b\")) //obtenção de valor\n",
    "println(a.getOrElse(\"j\",-1)) //obtenção de valor com valor padrão (caso a chave não exista no mapa)\n",
    "println(a + (\"j\" -> 10)) //adição de chave e valor\n",
    "println(a + (\"a\" -> 5)) //caso a chave exista, será feita uma sobrescrita no valor\n",
    "println(a - \"a\")  //remoção de chave (e valor, por consequência)\n",
    "println(a.keys) //chaves da coleção\n",
    "println(a.values) //valores da coleção"
   ]
  },
  {
   "cell_type": "markdown",
   "metadata": {},
   "source": [
    "Diferente das estruturas iteráveis que vimos até aqui, as iterações feitas sobre mapas são aplicadas sobre o par (chave, valor):"
   ]
  },
  {
   "cell_type": "code",
   "execution_count": null,
   "metadata": {
    "collapsed": true
   },
   "outputs": [],
   "source": [
    "for((c,v) <- a) print(s\"$c -> $v\\t\")\n",
    "println()\n",
    "\n",
    "println(a map (x => x._1 -> 2*x._2) mkString \"\\t\")\n",
    "\n",
    "println(a mkString \"\\t\")"
   ]
  },
  {
   "cell_type": "markdown",
   "metadata": {},
   "source": [
    "## Exercícios\n",
    "---\n",
    "\n",
    "Crie uma classe **genérica** e abstrata de lista a qual deve ter as seguintes ações:\n",
    "* informar se está vazia\n",
    "* adicionar um elemento no início da lista\n",
    "* adicionar um elemento ao fim da lista\n",
    "* checar se um elemento está contido\n",
    "* obter um elemento em uma certa posição\n",
    "* obter uma lista dos elementos que satisfação uma função de filtro\n",
    "* gerar uma nova lista aplicanto uma função de mapeamento\n",
    "\n",
    "Em seguida, implemente 2 subclasses: a que representa uma lista vazia e uma que representa uma lista não vazia\n",
    "\n",
    "**Dica**: A lista não vazia deve ser construida com cabeça e cauda\n",
    "\n",
    "**OBS**: Não pode usar a classe List ou similares ;)"
   ]
  },
  {
   "cell_type": "code",
   "execution_count": null,
   "metadata": {
    "collapsed": true
   },
   "outputs": [],
   "source": [
    "abstract class Lista[T]{\n",
    "    def head: T\n",
    "    def tail: Lista[T]\n",
    "    //defina a assinatura dos métodos restantes\n",
    "}\n",
    "\n",
    "class Vazia[T] extends Lista[T]{\n",
    "}\n",
    "\n",
    "class NaoVazia[T] extends Lista[T]{\n",
    "    \n",
    "}"
   ]
  }
 ],
 "metadata": {
  "kernelspec": {
   "display_name": "Scala",
   "language": "scala",
   "name": "scala"
  },
  "language_info": {
   "codemirror_mode": "text/x-scala",
   "file_extension": ".scala",
   "mimetype": "text/x-scala",
   "name": "scala211",
   "nbconvert_exporter": "script",
   "pygments_lexer": "scala",
   "version": "2.11.11"
  }
 },
 "nbformat": 4,
 "nbformat_minor": 2
}
