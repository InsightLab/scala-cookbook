{
 "cells": [
  {
   "cell_type": "markdown",
   "metadata": {},
   "source": [
    "# Aula 6\n",
    "\n",
    "Esta aula apresentará como utilizar *Generics* em Scala e apresentará algumas das coleções presentes na linguagem."
   ]
  },
  {
   "cell_type": "markdown",
   "metadata": {},
   "source": [
    "## *Generics*\n",
    "---\n",
    "\n",
    "Em orientação a objetos existe o conceito de *Generics*, que permite uma classe ser **parametrizada**, permitindo que 2 objetos trabalhem com tipos distintos. Tomaremos como exemplo a classe a seguir:"
   ]
  },
  {
   "cell_type": "code",
   "execution_count": 4,
   "metadata": {},
   "outputs": [
    {
     "data": {
      "text/plain": [
       "defined \u001b[32mclass\u001b[39m \u001b[36mAmostra\u001b[39m"
      ]
     },
     "execution_count": 4,
     "metadata": {},
     "output_type": "execute_result"
    }
   ],
   "source": [
    "class Amostra[T](elem: T){\n",
    "    def elemento: T = elem\n",
    "}"
   ]
  },
  {
   "cell_type": "markdown",
   "metadata": {},
   "source": [
    "A classe acima é *parametrizada* em *T*. Isso significa que ela pode conter atributos e métodos que trabalhem com o tipo *T*, o qual será definido no momento que um objeto for instanciado."
   ]
  },
  {
   "cell_type": "code",
   "execution_count": 5,
   "metadata": {},
   "outputs": [
    {
     "data": {
      "text/plain": [
       "\u001b[36ma\u001b[39m: \u001b[32mAmostra\u001b[39m[\u001b[32mString\u001b[39m] = $sess.cmd3Wrapper$Helper$Amostra@565326d6\n",
       "\u001b[36mb\u001b[39m: \u001b[32mAmostra\u001b[39m[\u001b[32mInt\u001b[39m] = $sess.cmd3Wrapper$Helper$Amostra@17c44131"
      ]
     },
     "execution_count": 5,
     "metadata": {},
     "output_type": "execute_result"
    }
   ],
   "source": [
    "val a = new Amostra[String](\"string\")\n",
    "val b = new Amostra[Int](10)"
   ]
  },
  {
   "cell_type": "markdown",
   "metadata": {},
   "source": [
    "Nos exemplos acima, instanciamos 2 objetos: um parametrizado em String e um em inteiro. Logo, ao instanciarmos os objetos, mandamos um valor do tipo ao qual o objeto foi parametrizado. Se tentarmos misturar esses tipos, obteremos um erro:"
   ]
  },
  {
   "cell_type": "code",
   "execution_count": 2,
   "metadata": {},
   "outputs": [
    {
     "name": "stderr",
     "output_type": "stream",
     "text": [
      "cmd2.sc:1: type mismatch;\n",
      " found   : Int(10)\n",
      " required: String\n",
      "val x = new Amostra[String](10)\n",
      "                            ^"
     ]
    },
    {
     "ename": "",
     "evalue": "",
     "output_type": "error",
     "traceback": [
      "Compilation Failed"
     ]
    }
   ],
   "source": [
    "val x = new Amostra[String](10)"
   ]
  },
  {
   "cell_type": "markdown",
   "metadata": {},
   "source": [
    "Uma vez com o tipo definido, nosso objeto da classe Amostra substitui *T* pelo tipo ao qual foi parametrizado:"
   ]
  },
  {
   "cell_type": "code",
   "execution_count": 7,
   "metadata": {},
   "outputs": [
    {
     "data": {
      "text/plain": [
       "\u001b[36mn\u001b[39m: \u001b[32mDouble\u001b[39m = \u001b[32m10.0\u001b[39m\n",
       "\u001b[36ms\u001b[39m: \u001b[32mString\u001b[39m = \u001b[32m\"string\"\u001b[39m"
      ]
     },
     "execution_count": 7,
     "metadata": {},
     "output_type": "execute_result"
    }
   ],
   "source": [
    "val n: Double = b.elemento\n",
    "val s:String = a.elemento"
   ]
  },
  {
   "cell_type": "markdown",
   "metadata": {},
   "source": [
    "*Generics* permite que os atributos e métodos sejam parametrizados no **ato de instaciação** de um objeto. Porém, Scala permite um passo além disso: o retorno de um método pode ser parametrizado no **ato da chamada de um método**. Vamos usar como exemplo o Object a seguir:"
   ]
  },
  {
   "cell_type": "code",
   "execution_count": 8,
   "metadata": {},
   "outputs": [
    {
     "data": {
      "text/plain": [
       "defined \u001b[32mobject\u001b[39m \u001b[36mRetorno\u001b[39m"
      ]
     },
     "execution_count": 8,
     "metadata": {},
     "output_type": "execute_result"
    }
   ],
   "source": [
    "object Retorno{\n",
    "    def apply[U](elemento: U): U = elemento\n",
    "}"
   ]
  },
  {
   "cell_type": "markdown",
   "metadata": {},
   "source": [
    "O object definido acima possui seu método *apply* parametrizado em *U*. Isso significa que o retorno do método **depende do tipo de elemento que é passado como parâmetro**:"
   ]
  },
  {
   "cell_type": "code",
   "execution_count": 10,
   "metadata": {},
   "outputs": [
    {
     "data": {
      "text/plain": [
       "\u001b[36mx\u001b[39m: \u001b[32mDouble\u001b[39m = \u001b[32m10.0\u001b[39m\n",
       "\u001b[36mc\u001b[39m: \u001b[32mChar\u001b[39m = \u001b[32m'c'\u001b[39m"
      ]
     },
     "execution_count": 10,
     "metadata": {},
     "output_type": "execute_result"
    }
   ],
   "source": [
    "val x: Double = Retorno(10.0)\n",
    "val c: Char = Retorno('c')"
   ]
  },
  {
   "cell_type": "markdown",
   "metadata": {},
   "source": [
    "## Coleções\n",
    "---\n",
    "\n",
    "Nessa parte da aula, apresentaremos algumas das coleções mais utilizadas em Scala. Trabalharemos com:\n",
    "* *Tuples* (tuplas)\n",
    "* *Iterables* (iteráveis):\n",
    "    * *Lists* (listas)\n",
    "    * *Sets* (conjuntos)\n",
    "    * *Maps* (listas)\n",
    "    \n",
    "**OBS**: \n",
    "* Scala trabalha com o princípio de *imutabilidade*, ou seja, suas coleções são geralmente **imutáveis**. Operações que modificam as coleções normalmente retornam uma nova coleção com a modificação realizada.\n",
    "* Em Scala, não é necessário utilizar o *new* para criar uma coleção, basta, se necessário, colocar entre parênteses os elementos iniciais da coleção"
   ]
  },
  {
   "cell_type": "markdown",
   "metadata": {},
   "source": [
    "### *Tuples*\n",
    "\n",
    "Tuplas são um conjunto ordenado de informações. Tuplas tem tamanho pré-definido e são parametrizadas para cada elemento da tupla:"
   ]
  },
  {
   "cell_type": "code",
   "execution_count": 13,
   "metadata": {},
   "outputs": [
    {
     "data": {
      "text/plain": [
       "\u001b[36mx\u001b[39m: (\u001b[32mInt\u001b[39m, \u001b[32mInt\u001b[39m) = (\u001b[32m1\u001b[39m, \u001b[32m2\u001b[39m)\n",
       "\u001b[36my\u001b[39m: (\u001b[32mInt\u001b[39m, \u001b[32mString\u001b[39m, \u001b[32mInt\u001b[39m) = (\u001b[32m10\u001b[39m, \u001b[32m\"abc\"\u001b[39m, \u001b[32m23\u001b[39m)\n",
       "\u001b[36mz\u001b[39m: (\u001b[32mInt\u001b[39m, \u001b[32mString\u001b[39m, \u001b[32mDouble\u001b[39m, \u001b[32mInt\u001b[39m, \u001b[32mChar\u001b[39m) = (\u001b[32m10\u001b[39m, \u001b[32m\"abc\"\u001b[39m, \u001b[32m15.3\u001b[39m, \u001b[32m2\u001b[39m, \u001b[32m'o'\u001b[39m)"
      ]
     },
     "execution_count": 13,
     "metadata": {},
     "output_type": "execute_result"
    }
   ],
   "source": [
    "val x: (Int,Int) = (1,2)\n",
    "val y: (Int,String,Int) = (10,\"abc\",23)\n",
    "val z: (Int,String,Double,Int,Char) = (10,\"abc\",15.3,2,'o')"
   ]
  },
  {
   "cell_type": "markdown",
   "metadata": {},
   "source": [
    "Para acessar os elementos de uma tupla, basta utilizar a notação *._n*, onde *n* é a posição do elemento da tupla (começando de 1)"
   ]
  },
  {
   "cell_type": "code",
   "execution_count": 14,
   "metadata": {},
   "outputs": [
    {
     "name": "stdout",
     "output_type": "stream",
     "text": [
      "1\n",
      "2\n"
     ]
    }
   ],
   "source": [
    "println(x._1)\n",
    "println(x._2)"
   ]
  },
  {
   "cell_type": "markdown",
   "metadata": {},
   "source": [
    "Tuplas também permitem que, se forem atribuídas a variáveis (ou valroes), podemos atribuir cala elemento da tupla a uma variável diretamente:"
   ]
  },
  {
   "cell_type": "code",
   "execution_count": 15,
   "metadata": {},
   "outputs": [
    {
     "name": "stdout",
     "output_type": "stream",
     "text": [
      "a: 10, b: abc, c: 23\n"
     ]
    },
    {
     "data": {
      "text/plain": [
       "\u001b[36ma\u001b[39m: \u001b[32mInt\u001b[39m = \u001b[32m10\u001b[39m\n",
       "\u001b[36mb\u001b[39m: \u001b[32mString\u001b[39m = \u001b[32m\"abc\"\u001b[39m\n",
       "\u001b[36mc\u001b[39m: \u001b[32mInt\u001b[39m = \u001b[32m23\u001b[39m"
      ]
     },
     "execution_count": 15,
     "metadata": {},
     "output_type": "execute_result"
    }
   ],
   "source": [
    "val (a,b,c) = y\n",
    "\n",
    "println(s\"a: $a, b: $b, c: $c\")"
   ]
  },
  {
   "cell_type": "markdown",
   "metadata": {},
   "source": [
    "### *Iterables*\n",
    "\n",
    "Iteráveis são coleções de dados que podem possuir qualquer quantidade de valores. Essas coleções possuem um conjunto de métodos de Alta Ordem (métodos que são funções de Alta Ordem) para manipular seus valores. Os tipos mais comuns de coleções Iteráveis são Listas, Conjuntos e Mapas."
   ]
  },
  {
   "cell_type": "markdown",
   "metadata": {},
   "source": [
    "#### Listas\n",
    "\n",
    "Existem 2 tipos de Sequências em Scala: indexadas (Vector, Range, String,...) e lineares (List, Queue, Stream, Stack). Sequências indexadas são sequencias cujo índice do elemento (posição) está armazenado em uma estrutura indexada, permitindo rápido acesso ao elemento em uma determinada posição. Sequências lineares são sequências onde cada elemento possui apenas seu próprio valor e uma referência a um próximo elemento.\n",
    "\n",
    "A implementação de Lista em Scala trabalha com a estrutura *cabeça* e *cauda*: um elemento (cabeça) e uma referência ao restante da lista (cauda)."
   ]
  },
  {
   "cell_type": "code",
   "execution_count": 16,
   "metadata": {},
   "outputs": [
    {
     "name": "stdout",
     "output_type": "stream",
     "text": [
      "1\n",
      "List(2, 3)\n"
     ]
    },
    {
     "data": {
      "text/plain": [
       "\u001b[36ml\u001b[39m: \u001b[32mList\u001b[39m[\u001b[32mInt\u001b[39m] = \u001b[33mList\u001b[39m(\u001b[32m1\u001b[39m, \u001b[32m2\u001b[39m, \u001b[32m3\u001b[39m)"
      ]
     },
     "execution_count": 16,
     "metadata": {},
     "output_type": "execute_result"
    }
   ],
   "source": [
    "val l = List[Int](1,2,3)\n",
    "println(l.head)\n",
    "println(l.tail)"
   ]
  },
  {
   "cell_type": "markdown",
   "metadata": {},
   "source": [
    "Como Lista é uma sequência linear, não é comum que ela seja utilizada em cenários onde deseja-se acessar um elemento em uma determinada posição, pois, em sequências lineares, isso implica em percorrer todos os elementos até encontrar a posição desejada."
   ]
  },
  {
   "cell_type": "markdown",
   "metadata": {},
   "source": [
    "Listas em Scala possuem alguns operadores definidos para manipulá-las:"
   ]
  },
  {
   "cell_type": "code",
   "execution_count": 16,
   "metadata": {},
   "outputs": [
    {
     "name": "stdout",
     "output_type": "stream",
     "text": [
      "List(10, 1, 2, 3)\n",
      "List(1, 2, 3, 10)\n",
      "List(1, 2, 3, 4, 5)\n",
      "List(1, 2, 3, 4, 5)\n"
     ]
    },
    {
     "data": {
      "text/plain": [
       "\u001b[36mx\u001b[39m: \u001b[32mList\u001b[39m[\u001b[32mInt\u001b[39m] = \u001b[33mList\u001b[39m(\u001b[32m1\u001b[39m, \u001b[32m2\u001b[39m, \u001b[32m3\u001b[39m)"
      ]
     },
     "execution_count": 16,
     "metadata": {},
     "output_type": "execute_result"
    }
   ],
   "source": [
    "val x = List[Int](1,2,3)\n",
    "\n",
    "println(10 :: x) //adiciona ao início da lista\n",
    "println(x :+ 10) //adiciona ao fim da lista\n",
    "println(x ++ List[Int](4,5)) //adiciona a segunda lista ao final da primeira\n",
    "println(x ::: List[Int](4,5)) //adiciona a segunda lista ao final da primeira"
   ]
  },
  {
   "cell_type": "markdown",
   "metadata": {},
   "source": [
    "Existem alguns métodos comuns a todas as coleções em Scala, a fim de auxiliar na obtenção de informações:"
   ]
  },
  {
   "cell_type": "code",
   "execution_count": 21,
   "metadata": {},
   "outputs": [
    {
     "name": "stdout",
     "output_type": "stream",
     "text": [
      "false\n",
      "true\n",
      "5\n",
      "12\n",
      "48\n",
      "List(1, 2, 3, 4)\n"
     ]
    },
    {
     "data": {
      "text/plain": [
       "\u001b[36mx\u001b[39m: \u001b[32mList\u001b[39m[\u001b[32mInt\u001b[39m] = \u001b[33mList\u001b[39m(\u001b[32m1\u001b[39m, \u001b[32m2\u001b[39m, \u001b[32m3\u001b[39m, \u001b[32m2\u001b[39m, \u001b[32m4\u001b[39m)"
      ]
     },
     "execution_count": 21,
     "metadata": {},
     "output_type": "execute_result"
    }
   ],
   "source": [
    "val x = List(1,2,3,2,4)\n",
    "println(x.isEmpty) //está vazia\n",
    "println(x.nonEmpty) //não está vazia\n",
    "println(x.length) //tamanho\n",
    "println(x.sum) //soma dos elementos\n",
    "println(x.product) //produto dos elementos\n",
    "println(x.distinct) //elementos distintos"
   ]
  },
  {
   "cell_type": "markdown",
   "metadata": {},
   "source": [
    "As coleções iteráveis em Scala também possuem vários métodos de Alta ordem em Comum. Mostraremos como eles funcionam com as listas. O mesmo vale para os conjuntos (Sets) e para mapas (com algumas modificações). Para os exemplos a seguir, utilizaremos a seguinte lista:"
   ]
  },
  {
   "cell_type": "code",
   "execution_count": 22,
   "metadata": {},
   "outputs": [
    {
     "data": {
      "text/plain": [
       "\u001b[36mx\u001b[39m: \u001b[32mList\u001b[39m[\u001b[32mInt\u001b[39m] = \u001b[33mList\u001b[39m(\u001b[32m1\u001b[39m, \u001b[32m2\u001b[39m, \u001b[32m3\u001b[39m, \u001b[32m4\u001b[39m, \u001b[32m5\u001b[39m, \u001b[32m6\u001b[39m, \u001b[32m7\u001b[39m, \u001b[32m8\u001b[39m, \u001b[32m9\u001b[39m)"
      ]
     },
     "execution_count": 22,
     "metadata": {},
     "output_type": "execute_result"
    }
   ],
   "source": [
    "val x = List[Int](1,2,3,4,5,6,7,8,9)"
   ]
  },
  {
   "cell_type": "markdown",
   "metadata": {},
   "source": [
    "* *For Each*: aplica uma certa função sobre os elementos da coleção"
   ]
  },
  {
   "cell_type": "code",
   "execution_count": 43,
   "metadata": {},
   "outputs": [
    {
     "name": "stdout",
     "output_type": "stream",
     "text": [
      "1\n",
      "2\n",
      "3\n",
      "4\n",
      "5\n",
      "6\n",
      "7\n",
      "8\n",
      "9\n"
     ]
    }
   ],
   "source": [
    "x foreach (e => println(e))"
   ]
  },
  {
   "cell_type": "markdown",
   "metadata": {},
   "source": [
    "**OBS**: em funções simples como a do exemplo acima, podemos utilizar uma notação simplificada de função anônima:"
   ]
  },
  {
   "cell_type": "code",
   "execution_count": 44,
   "metadata": {},
   "outputs": [
    {
     "name": "stdout",
     "output_type": "stream",
     "text": [
      "1\n",
      "2\n",
      "3\n",
      "4\n",
      "5\n",
      "6\n",
      "7\n",
      "8\n",
      "9\n"
     ]
    }
   ],
   "source": [
    "x foreach (println(_))"
   ]
  },
  {
   "cell_type": "markdown",
   "metadata": {},
   "source": [
    "* *Filter*: retorna apenas os elementos da coleção que atendem a um certo predicado (função que recebe um elemento da lista e retorna Boolean)"
   ]
  },
  {
   "cell_type": "code",
   "execution_count": 2,
   "metadata": {},
   "outputs": [
    {
     "data": {
      "text/plain": [
       "\u001b[36mres1\u001b[39m: \u001b[32mList\u001b[39m[\u001b[32mInt\u001b[39m] = \u001b[33mList\u001b[39m(\u001b[32m2\u001b[39m, \u001b[32m4\u001b[39m, \u001b[32m6\u001b[39m, \u001b[32m8\u001b[39m)"
      ]
     },
     "execution_count": 2,
     "metadata": {},
     "output_type": "execute_result"
    }
   ],
   "source": [
    "x.filter(_%2 == 0) //apenas números pares"
   ]
  },
  {
   "cell_type": "markdown",
   "metadata": {},
   "source": [
    "* *Filter Not*: retorna apenas os elementos da coleção que **não** atendem a um certo predicado (função que recebe um elemento da lista e retorna Boolean)"
   ]
  },
  {
   "cell_type": "code",
   "execution_count": 3,
   "metadata": {},
   "outputs": [
    {
     "data": {
      "text/plain": [
       "\u001b[36mres2\u001b[39m: \u001b[32mList\u001b[39m[\u001b[32mInt\u001b[39m] = \u001b[33mList\u001b[39m(\u001b[32m1\u001b[39m, \u001b[32m3\u001b[39m, \u001b[32m5\u001b[39m, \u001b[32m7\u001b[39m, \u001b[32m9\u001b[39m)"
      ]
     },
     "execution_count": 3,
     "metadata": {},
     "output_type": "execute_result"
    }
   ],
   "source": [
    "x.filterNot(_%2 == 0) //apenas números NÃO pares"
   ]
  },
  {
   "cell_type": "markdown",
   "metadata": {},
   "source": [
    "* *Exists*: retorna *true* se **existe** algum elemento na lista que satisfaz um predicado"
   ]
  },
  {
   "cell_type": "code",
   "execution_count": 4,
   "metadata": {},
   "outputs": [
    {
     "data": {
      "text/plain": [
       "\u001b[36mres3\u001b[39m: \u001b[32mBoolean\u001b[39m = \u001b[32mtrue\u001b[39m"
      ]
     },
     "execution_count": 4,
     "metadata": {},
     "output_type": "execute_result"
    }
   ],
   "source": [
    "x.exists(_>7) //existe um número maior do que 7"
   ]
  },
  {
   "cell_type": "markdown",
   "metadata": {},
   "source": [
    "* *For All*: retorna *true* se **todos** os elementos na lista que satisfazem um predicado"
   ]
  },
  {
   "cell_type": "code",
   "execution_count": 5,
   "metadata": {},
   "outputs": [
    {
     "data": {
      "text/plain": [
       "\u001b[36mres4\u001b[39m: \u001b[32mBoolean\u001b[39m = \u001b[32mfalse\u001b[39m"
      ]
     },
     "execution_count": 5,
     "metadata": {},
     "output_type": "execute_result"
    }
   ],
   "source": [
    "x.forall(_ > 5) //todos os elementos são maiores do que 5"
   ]
  },
  {
   "cell_type": "markdown",
   "metadata": {},
   "source": [
    "* *Map*: gera uma nova coleção, aplicando uma função sobre cada elemento da lista"
   ]
  },
  {
   "cell_type": "code",
   "execution_count": 6,
   "metadata": {},
   "outputs": [
    {
     "data": {
      "text/plain": [
       "\u001b[36mres5\u001b[39m: \u001b[32mList\u001b[39m[\u001b[32mInt\u001b[39m] = \u001b[33mList\u001b[39m(\u001b[32m2\u001b[39m, \u001b[32m4\u001b[39m, \u001b[32m6\u001b[39m, \u001b[32m8\u001b[39m, \u001b[32m10\u001b[39m, \u001b[32m12\u001b[39m, \u001b[32m14\u001b[39m, \u001b[32m16\u001b[39m, \u001b[32m18\u001b[39m)"
      ]
     },
     "execution_count": 6,
     "metadata": {},
     "output_type": "execute_result"
    }
   ],
   "source": [
    "x map (_*2) //lista com o dobro dos elementos"
   ]
  },
  {
   "cell_type": "markdown",
   "metadata": {},
   "source": [
    "* *Flat Map*: é similar ao *map*, porém, a função aplicada a cada elemento deve retornar uma sequência. No final, todas as sequências são encadeadas como uma só"
   ]
  },
  {
   "cell_type": "code",
   "execution_count": 7,
   "metadata": {},
   "outputs": [
    {
     "data": {
      "text/plain": [
       "\u001b[36mres6\u001b[39m: \u001b[32mList\u001b[39m[\u001b[32mInt\u001b[39m] = \u001b[33mList\u001b[39m(\u001b[32m0\u001b[39m, \u001b[32m1\u001b[39m, \u001b[32m0\u001b[39m, \u001b[32m1\u001b[39m, \u001b[32m2\u001b[39m, \u001b[32m0\u001b[39m, \u001b[32m1\u001b[39m, \u001b[32m2\u001b[39m, \u001b[32m3\u001b[39m)"
      ]
     },
     "execution_count": 7,
     "metadata": {},
     "output_type": "execute_result"
    }
   ],
   "source": [
    "List[Int](1,2,3) flatMap (0 to _) //para cada elemento e, retorna a sequência de 0 à e"
   ]
  },
  {
   "cell_type": "markdown",
   "metadata": {},
   "source": [
    "* *Fold*: dado um acumulador (um valor inicial), é aplicada uma função sobre o acumulador e o elemento da lista. O resultado dessa função será aplicado ao próximo elemento da lista, até que, no final, seja dado um único valor. Existem 2 tipos de *Fold*: *Left*, onde o acumulador é o argumento à esquerda na função e é aplicado da esquerda à direita na coleção, e o *Right*, onde o acumulador é o argumento à direita e a função é aplicada da direita para a esquerda"
   ]
  },
  {
   "cell_type": "code",
   "execution_count": 38,
   "metadata": {},
   "outputs": [
    {
     "data": {
      "text/plain": [
       "\u001b[36mres37\u001b[39m: \u001b[32mString\u001b[39m = \u001b[32m\"123456789\"\u001b[39m"
      ]
     },
     "execution_count": 38,
     "metadata": {},
     "output_type": "execute_result"
    }
   ],
   "source": [
    "x.foldLeft(\"\")((acc: String, e: Int) => acc + e.toString) //a aprtir da String vazia (\"\"), \n",
    "//adiciona a string de cada elemento da lista ao acumulador e, no final, retorna uma string"
   ]
  },
  {
   "cell_type": "code",
   "execution_count": 37,
   "metadata": {},
   "outputs": [
    {
     "data": {
      "text/plain": [
       "\u001b[36mres36\u001b[39m: \u001b[32mString\u001b[39m = \u001b[32m\"987654321\"\u001b[39m"
      ]
     },
     "execution_count": 37,
     "metadata": {},
     "output_type": "execute_result"
    }
   ],
   "source": [
    "x.foldRight(\"\")((e: Int, acc: String) => acc + e.toString) //a aprtir da String vazia (\"\"), \n",
    "//adiciona a string de cada elemento da lista ao acumulador e, no final, retorna uma string"
   ]
  },
  {
   "cell_type": "markdown",
   "metadata": {},
   "source": [
    "* *Zip*: retorna uma lista de tuplas que combina elementos da coleção com outra"
   ]
  },
  {
   "cell_type": "code",
   "execution_count": 41,
   "metadata": {},
   "outputs": [
    {
     "name": "stdout",
     "output_type": "stream",
     "text": [
      "List((1,9), (2,8), (3,7), (4,6), (5,5), (6,4), (7,3), (8,2), (9,1))"
     ]
    },
    {
     "data": {
      "text/plain": [
       "\u001b[36my\u001b[39m: \u001b[32mList\u001b[39m[(\u001b[32mInt\u001b[39m, \u001b[32mInt\u001b[39m)] = \u001b[33mList\u001b[39m((\u001b[32m1\u001b[39m, \u001b[32m9\u001b[39m), (\u001b[32m2\u001b[39m, \u001b[32m8\u001b[39m), (\u001b[32m3\u001b[39m, \u001b[32m7\u001b[39m), (\u001b[32m4\u001b[39m, \u001b[32m6\u001b[39m), (\u001b[32m5\u001b[39m, \u001b[32m5\u001b[39m), (\u001b[32m6\u001b[39m, \u001b[32m4\u001b[39m), (\u001b[32m7\u001b[39m, \u001b[32m3\u001b[39m), (\u001b[32m8\u001b[39m, \u001b[32m2\u001b[39m), (\u001b[32m9\u001b[39m, \u001b[32m1\u001b[39m))"
      ]
     },
     "execution_count": 41,
     "metadata": {},
     "output_type": "execute_result"
    }
   ],
   "source": [
    "val y = x zip List[Int](9,8,7,6,5,4,3,2,1)\n",
    "print(y)"
   ]
  },
  {
   "cell_type": "markdown",
   "metadata": {},
   "source": [
    "Uma coleção de tuplas permite um *for* um pouco mais expressivo:"
   ]
  },
  {
   "cell_type": "code",
   "execution_count": 42,
   "metadata": {},
   "outputs": [
    {
     "name": "stdout",
     "output_type": "stream",
     "text": [
      "(1,9)\n",
      "(2,8)\n",
      "(3,7)\n",
      "(4,6)\n",
      "(5,5)\n",
      "(6,4)\n",
      "(7,3)\n",
      "(8,2)\n",
      "(9,1)\n"
     ]
    }
   ],
   "source": [
    "for((a,b) <- y) println(s\"($a,$b)\")"
   ]
  },
  {
   "cell_type": "markdown",
   "metadata": {},
   "source": [
    "* *Sort By*: retorna uma coleção ordenada pelo campo inserido. Normalmente é utilizado quando temos coleções de tuplas ou objetos, os quais não possuem um método de comparação definido."
   ]
  },
  {
   "cell_type": "code",
   "execution_count": 8,
   "metadata": {},
   "outputs": [
    {
     "name": "stdout",
     "output_type": "stream",
     "text": [
      "List((1,c), (2,b), (3,a))\n",
      "List((3,a), (2,b), (1,c))\n"
     ]
    },
    {
     "data": {
      "text/plain": [
       "\u001b[36my\u001b[39m: \u001b[32mList\u001b[39m[(\u001b[32mInt\u001b[39m, \u001b[32mString\u001b[39m)] = \u001b[33mList\u001b[39m((\u001b[32m1\u001b[39m, \u001b[32m\"c\"\u001b[39m), (\u001b[32m2\u001b[39m, \u001b[32m\"b\"\u001b[39m), (\u001b[32m3\u001b[39m, \u001b[32m\"a\"\u001b[39m))"
      ]
     },
     "execution_count": 8,
     "metadata": {},
     "output_type": "execute_result"
    }
   ],
   "source": [
    "val y = List((1,\"c\"),(2,\"b\"),(3,\"a\"))\n",
    "\n",
    "println(y sortBy (_._1)) //ordenando pelo número\n",
    "println(y sortBy (_._2)) //ordenando pela string"
   ]
  },
  {
   "cell_type": "markdown",
   "metadata": {},
   "source": [
    "* *Sort With*: retorna uma coleção que será ordenada a partir de uma função de *prioridade* que é passada, a qual retorna *true* caso o primeiro elemento deve vir antes do segundo e *false* caso contrário"
   ]
  },
  {
   "cell_type": "code",
   "execution_count": 12,
   "metadata": {},
   "outputs": [
    {
     "name": "stdout",
     "output_type": "stream",
     "text": [
      "List(A(-2.0), A(3.0), A(10.0), A(15.0))\n",
      "List(A(-2.0), A(3.0), A(10.0), A(15.0))\n"
     ]
    },
    {
     "data": {
      "text/plain": [
       "defined \u001b[32mclass\u001b[39m \u001b[36mA\u001b[39m\n",
       "\u001b[36my\u001b[39m: \u001b[32mList\u001b[39m[\u001b[32mwrapper\u001b[39m.\u001b[32mwrapper\u001b[39m.\u001b[32mA\u001b[39m] = \u001b[33mList\u001b[39m(A(10.0), A(3.0), A(-2.0), A(15.0))"
      ]
     },
     "execution_count": 12,
     "metadata": {},
     "output_type": "execute_result"
    }
   ],
   "source": [
    "class A(v: Double){\n",
    "    def valor: Double = v\n",
    "    override def toString: String = s\"A(${v.toString})\"\n",
    "}\n",
    "\n",
    "val y = List[A](new A(10),new A(3),new A(-2),new A(15))\n",
    "\n",
    "println(y sortWith ((a,b) => a.valor < b.valor)) //ordenando com função normal\n",
    "println(y sortWith (_.valor < _.valor)) //ordenando com função simplificada"
   ]
  },
  {
   "cell_type": "markdown",
   "metadata": {},
   "source": [
    "#### *Sets*\n",
    "\n",
    "Conjuntos em Scala são, como o nome sujere, coleções em forma de conjunto, ou seja, são coleções que não possuem duplicidade nos elementos"
   ]
  },
  {
   "cell_type": "code",
   "execution_count": 25,
   "metadata": {},
   "outputs": [
    {
     "data": {
      "text/plain": [
       "\u001b[36mx\u001b[39m: \u001b[32mSet\u001b[39m[\u001b[32mInt\u001b[39m] = \u001b[33mSet\u001b[39m(\u001b[32m1\u001b[39m, \u001b[32m3\u001b[39m, \u001b[32m2\u001b[39m, \u001b[32m-1\u001b[39m)"
      ]
     },
     "execution_count": 25,
     "metadata": {},
     "output_type": "execute_result"
    }
   ],
   "source": [
    "val x = Set[Int](1,3,2,3,-1)"
   ]
  },
  {
   "cell_type": "markdown",
   "metadata": {},
   "source": [
    "Em um conjunto, seu método *apply* retorna a pertinência do elemento no conjunto"
   ]
  },
  {
   "cell_type": "code",
   "execution_count": 26,
   "metadata": {},
   "outputs": [
    {
     "name": "stdout",
     "output_type": "stream",
     "text": [
      "10 pertence à x: false\n",
      "1 pertence à x: true\n"
     ]
    }
   ],
   "source": [
    "println(s\"10 pertence à x: ${x(10)}\")\n",
    "println(s\"1 pertence à x: ${x(1)}\")"
   ]
  },
  {
   "cell_type": "markdown",
   "metadata": {},
   "source": [
    "Conjuntos também possuem algumas operações básicas:"
   ]
  },
  {
   "cell_type": "code",
   "execution_count": 34,
   "metadata": {},
   "outputs": [
    {
     "name": "stdout",
     "output_type": "stream",
     "text": [
      "Set(10, 1, 2, 3, -1)\n",
      "Set(3, 2, -1)\n",
      "Set(2, -1)\n",
      "Set(1, 3)\n",
      "Set(1, 3)\n",
      "Set(20, 1, 2, -5, 3, -1)\n",
      "Set(20, 1, 2, -5, 3, -1)\n"
     ]
    }
   ],
   "source": [
    "println(x + 10) //adição de elemento\n",
    "println(x - 1) //remoção de elemento\n",
    "println(x & Set(2,-1)) //interseção\n",
    "println(x &~ Set(2,-1)) //diferença\n",
    "println(x -- Set(2,-1)) //diferença\n",
    "println(x | Set(20,-5)) //união\n",
    "println(x ++ Set(20,-5)) //união"
   ]
  },
  {
   "cell_type": "code",
   "execution_count": null,
   "metadata": {},
   "outputs": [],
   "source": []
  }
 ],
 "metadata": {
  "kernelspec": {
   "display_name": "Scala",
   "language": "scala",
   "name": "scala"
  },
  "language_info": {
   "codemirror_mode": "text/x-scala",
   "file_extension": ".scala",
   "mimetype": "text/x-scala",
   "name": "scala211",
   "nbconvert_exporter": "script",
   "pygments_lexer": "scala",
   "version": "2.11.11"
  }
 },
 "nbformat": 4,
 "nbformat_minor": 2
}
