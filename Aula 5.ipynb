{
 "cells": [
  {
   "cell_type": "markdown",
   "metadata": {},
   "source": [
    "# Aula 5\n",
    "\n",
    "Esta aula demonstrará o que é o paradigma funcional. Abordaremos os seguintes conceitos:\n",
    "* Parâmetro padrão\n",
    "* Função como Valor\n",
    "* Função de Alta Ordem\n",
    "    * Função Anônima\n",
    "    * Função Aninhada"
   ]
  },
  {
   "cell_type": "markdown",
   "metadata": {},
   "source": [
    "## Parâmetro padrão\n",
    "---\n",
    "\n",
    "Linguagens que trazem o paradigma funcional permitem que, ao definirmos uma função, designemos um valor padrão para seu último parâmetro:"
   ]
  },
  {
   "cell_type": "code",
   "execution_count": null,
   "metadata": {},
   "outputs": [],
   "source": [
    "def f(a: Int, b: Int, c: Int = 10): Unit = println(s\"a: $a, b: $b, c: $c\")\n",
    "\n",
    "f(1,2,3) //define todos os valores\n",
    "f(1,2) //define valores apenas para a e b\n",
    "f(10,29) //define valores apenas para a e b"
   ]
  },
  {
   "cell_type": "markdown",
   "metadata": {},
   "source": [
    "No exemplo acima, a função *f* possui um valor padrão para o parâmetro *c*. Caso ele não seja informado, a função executa assumindo o valor 10 para *c*.\n",
    "\n",
    "Imagine agora o cenário em que temos *b* também com um valor padrão:"
   ]
  },
  {
   "cell_type": "code",
   "execution_count": null,
   "metadata": {},
   "outputs": [],
   "source": [
    "def f(a: Int, b: Int = 5, c: Int = 10): Unit = println(s\"a: $a, b: $b, c: $c\")\n",
    "\n",
    "f(1,2,3) //define todos os valores\n",
    "f(1,2) //define valores apenas para a e b\n",
    "f(1) //define valores apenas para a"
   ]
  },
  {
   "cell_type": "markdown",
   "metadata": {},
   "source": [
    "Caso queiramos chamar *f* mandando valor para *a* e para *c*, mantendo o valor padrão de *b*, podemos fazer da seguinte maneira:"
   ]
  },
  {
   "cell_type": "code",
   "execution_count": null,
   "metadata": {},
   "outputs": [],
   "source": [
    "f(1,c=20) //define valores para a e c"
   ]
  },
  {
   "cell_type": "markdown",
   "metadata": {},
   "source": [
    "## Função como Valor\n",
    "---\n",
    "\n",
    "O paradigma funcional permite que uma função seja tratada como uma informação, um **valor**. Até o momento vimos que uma certa variável *x* poderia armazenar números, caracteres, boleanos e objetos. Em linguagens funcionais, que é o caso de Scala, *x* também pode armazenar uma **função**:"
   ]
  },
  {
   "cell_type": "code",
   "execution_count": null,
   "metadata": {},
   "outputs": [],
   "source": [
    "//uma simples função que soma 2 inteiros\n",
    "def somar(a: Int, b: Int): Int = a + b \n",
    "\n",
    "//armazenando a função como variável\n",
    "val x: (Int,Int) => Int = somar"
   ]
  },
  {
   "cell_type": "markdown",
   "metadata": {},
   "source": [
    "No exemplo de código acima, podemos notar que *x* possui um tipo bem diferente do que vimos até agora. Essa é a notação de um **tipo** função em Scala. Inicialmente, temos os tipos dos parâmetros que a função vai receber e, por fim, o tipo que será retornado. No exemplo acima, *x* é uma função que recebe 2 inteiros e retorna outro inteiro, que é exatamente o que a função *somar* faz. Agora, podemos tratar *x* como uma função e realizar chamadas:"
   ]
  },
  {
   "cell_type": "code",
   "execution_count": null,
   "metadata": {},
   "outputs": [],
   "source": [
    "println(x(1,2))\n",
    "println(x(3,5))"
   ]
  },
  {
   "cell_type": "markdown",
   "metadata": {},
   "source": [
    "## Função de Alta Ordem\n",
    "---\n",
    "\n",
    "Outra característica do paradigma funcional é a presença de *Função de Alta Ordem*(*High-Order Function*). Uma função é dita de Alta Ordem quando uma das condições abaixo é satisfeita:\n",
    "* Ela recebe pelo menos uma função como argumento\n",
    "* Ela retorna outra função\n",
    "\n",
    "No exemplo abaixo nós definimos uma função de Alta Ordem chamada *aplicar*, a qual recebe um inteiro e uma função (que recebe um inteiro e retorna outro):"
   ]
  },
  {
   "cell_type": "code",
   "execution_count": null,
   "metadata": {},
   "outputs": [],
   "source": [
    "def dobrar(a: Int): Int = 2*a //retorna o dobro do número\n",
    "def triplicar(a: Int): Int = 3*a //retorna o triplo do número\n",
    "\n",
    "def aplicar(x: Int, f: Int => Int): Int = f(x) //retorna a aplicação da função f sobre x\n",
    "\n",
    "println(aplicar(2,dobrar))\n",
    "println(aplicar(2,triplicar))"
   ]
  },
  {
   "cell_type": "markdown",
   "metadata": {},
   "source": [
    "### Função anônima\n",
    "\n",
    "Até o momento nós apenas atribuímos funções pré-definidas a variáveis, ou seja, funções que passaram por um processo de declaração, onde receberam um identificador. O paradigma funcional permite a criação de funções sem declaração de identificador. Essas funções são chamadas de *Funções Anônimas*."
   ]
  },
  {
   "cell_type": "code",
   "execution_count": null,
   "metadata": {},
   "outputs": [],
   "source": [
    "def somar(a: Int, b: Int): Int = a + b \n",
    "//x recebe uma função previamente declarada, a qual soma 2 inteiros\n",
    "val x: (Int,Int) => Int = somar\n",
    "\n",
    "//y recebe uma função sem antes ser declarada, a qual soma 2 inteiros\n",
    "val y: (Int, Int) => Int = (a,b) => a + b\n",
    "\n",
    "println(x(1,2))\n",
    "println(y(1,2))"
   ]
  },
  {
   "cell_type": "markdown",
   "metadata": {},
   "source": [
    "Para definirmos uma função anônima basta utilizar uma sintaxe similar a definição do tipo função: primeiro informa os parâmetros da função e, em seguida, o corpo do código.\n",
    "**OBS**: É sempre necessário fazer a correspondência dos tipos, seja na hora de tipar a variável que receberá a função ou na própria função:"
   ]
  },
  {
   "cell_type": "code",
   "execution_count": null,
   "metadata": {},
   "outputs": [],
   "source": [
    "val y1: (Int, Int) => Int = (a,b) => a + b\n",
    "val y2 = (a: Int, b: Int) => a + b"
   ]
  },
  {
   "cell_type": "markdown",
   "metadata": {},
   "source": [
    "Uma aplicação comum de funções anônimas é quando trabalhamos com funções de Alta-Ordem. Tenhamos como um exemplo a função *aplicar* definida anteriormente. Ao invés de mandar como parâmetro uma função previamente definida, podemos mandar uma função anônima:"
   ]
  },
  {
   "cell_type": "code",
   "execution_count": null,
   "metadata": {},
   "outputs": [],
   "source": [
    "aplicar(2, x => x+2) //a função enviada é uma função anônima que recebe um número x e retorna ele somado a 2"
   ]
  },
  {
   "cell_type": "markdown",
   "metadata": {},
   "source": [
    "**OBS**: o tipo da variável na função anônima não precisou ser definido pois a função *aplicar* faz a coersão dos tipos."
   ]
  },
  {
   "cell_type": "markdown",
   "metadata": {},
   "source": [
    "### Função Aninhada\n",
    "\n",
    "Como o próprio nome sugere, uma *Função Aninhada* é uma função que é definida dentro de outra função. De acordo com a definição de *Função de Alta Ordem*, uma função pode retornar outra função como valor, ou seja, a função de Alta Ordem cria uma nova função dentro dela e retorna. Por exemplo:"
   ]
  },
  {
   "cell_type": "code",
   "execution_count": null,
   "metadata": {},
   "outputs": [],
   "source": [
    "def gerarSomador(i: Int): Int => Int = {\n",
    "    \n",
    "    def somador(x: Int): Int = x + i\n",
    "    \n",
    "    somador\n",
    "}\n",
    "\n",
    "val somador2 = gerarSomador(2)\n",
    "val somador3 = gerarSomador(3)\n",
    "\n",
    "println(\"5 + 2 = \"+somador2(5))\n",
    "println(\"5 + 3 = \"+somador3(5))"
   ]
  },
  {
   "cell_type": "markdown",
   "metadata": {},
   "source": [
    "No exemplo acima, temos a função *gerarSomador*, a qual recebe um inteiro *i*, cria uma função aninhada que recebe um inteiro *x* e retorna *x* somado a *i* (que é um valor presente no escopo da função *gerarSomador* no momento de sua execução e, nesse caso, nunca será mudado) . Essa função aninhada é então retornada. Nesse exemplo, a função *gerarSomador* é uma função de Alta Ordem pois retorna uma função."
   ]
  },
  {
   "cell_type": "markdown",
   "metadata": {},
   "source": [
    "## Exercícios\n",
    "---"
   ]
  },
  {
   "cell_type": "markdown",
   "metadata": {},
   "source": [
    "### 1. Faça uma função que recebe um caractere (+,-,*,/) e retorna uma função que recebe 2 Doubles e retorna a operação aplicada sobre eles"
   ]
  },
  {
   "cell_type": "code",
   "execution_count": null,
   "metadata": {
    "collapsed": true
   },
   "outputs": [],
   "source": []
  },
  {
   "cell_type": "markdown",
   "metadata": {},
   "source": [
    "### 2. Faça agora uma função chamada *currying* que recebe um Double *d* e a função gerada pela questão anterior e retorne uma nova função que opera como a que foi mandada, porém pedindo apenas um parâmetro, pois o segundo parâmetro será fixado com o valor de *d*. Para mais informações, leia sobre o conceito de [Currying](https://pt.wikipedia.org/wiki/Currying)"
   ]
  },
  {
   "cell_type": "code",
   "execution_count": null,
   "metadata": {
    "collapsed": true
   },
   "outputs": [],
   "source": []
  },
  {
   "cell_type": "markdown",
   "metadata": {},
   "source": [
    "Em Scala, podemos definir um *tipo* sem necessáriamente ser uma classe ou uma função. Isso é bastante útil quando desejamos utilizar estruturas de dados e nomeá-las, a fim de tornar o código mais legível. Por exemplo: podemos dizer que uma String é uma Palavra e um Array de String é uma Frase:"
   ]
  },
  {
   "cell_type": "code",
   "execution_count": null,
   "metadata": {},
   "outputs": [],
   "source": [
    "type Palavra = String\n",
    "\n",
    "type Frase = Array[String]\n",
    "\n",
    "val p1: Palavra = \"olá\"\n",
    "val p2: Palavra = \"mundo\"\n",
    "\n",
    "val f: Frase = Array[String](p1,p2)"
   ]
  },
  {
   "cell_type": "markdown",
   "metadata": {},
   "source": [
    "### 3. Vamos definir o tipo *Conjunto* como uma função que recebe um inteiro e retorna um booleano. Se um elemento pertencer ao conjunto, o retorno deverá ser *true*. Caso contrário, *false*. Implemente os métodos abaixo a fim de conseguir executar a célula:"
   ]
  },
  {
   "cell_type": "code",
   "execution_count": null,
   "metadata": {},
   "outputs": [],
   "source": [
    "type Set = Int => Boolean\n",
    "\n",
    "object Operador{\n",
    "    def conjuntoUnitario(n: Int): Set = ???\n",
    "    \n",
    "    def uniao(s: Set, t: Set): Set = ???\n",
    "    \n",
    "    def interseccao(s: Set, t: Set): Set = ???\n",
    "    \n",
    "    def diferenca(s: Set, t: Set): Set = ???\n",
    "    \n",
    "    def complemento(s: Set): Set = ???\n",
    "}\n",
    "\n",
    "\n",
    "val s = Operador.conjuntoUnitario(2)\n",
    "val t = Operador.conjuntoUnitario(1)\n",
    "\n",
    "require(!s(1))\n",
    "require(s(2))\n",
    "require(!t(2))\n",
    "require(t(1))\n",
    "\n",
    "val u = Operador.uniao(s,t)\n",
    "\n",
    "require(u(1))\n",
    "require(u(2))\n",
    "require(!u(3))\n",
    "\n",
    "val i = Operador.interseccao(u,t)\n",
    "\n",
    "require(i(1))\n",
    "require(!i(2))\n",
    "require(!i(3))\n",
    "\n",
    "val d = Operador.diferenca(u,t)\n",
    "\n",
    "require(d(2))\n",
    "require(!d(1))\n",
    "require(!d(3))\n",
    "\n",
    "val c = Operador.complemento(u)\n",
    "\n",
    "require(!c(1))\n",
    "require(!c(2))\n",
    "require(c(3))\n",
    "require(c(4))"
   ]
  }
 ],
 "metadata": {
  "kernelspec": {
   "display_name": "Scala",
   "language": "scala",
   "name": "scala"
  },
  "language_info": {
   "codemirror_mode": "text/x-scala",
   "file_extension": ".scala",
   "mimetype": "text/x-scala",
   "name": "scala211",
   "nbconvert_exporter": "script",
   "pygments_lexer": "scala",
   "version": "2.11.11"
  }
 },
 "nbformat": 4,
 "nbformat_minor": 2
}
